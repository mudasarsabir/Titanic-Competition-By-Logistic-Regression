{
 "cells": [
  {
   "cell_type": "markdown",
   "id": "6469e939",
   "metadata": {
    "papermill": {
     "duration": 0.013897,
     "end_time": "2025-04-25T18:38:04.637591",
     "exception": false,
     "start_time": "2025-04-25T18:38:04.623694",
     "status": "completed"
    },
    "tags": []
   },
   "source": [
    "# Classification Algorithms (Logistic Regression With Titanic Dataset) and Model Evaluation"
   ]
  },
  {
   "cell_type": "markdown",
   "id": "ade1fb88",
   "metadata": {
    "papermill": {
     "duration": 0.01271,
     "end_time": "2025-04-25T18:38:04.663004",
     "exception": false,
     "start_time": "2025-04-25T18:38:04.650294",
     "status": "completed"
    },
    "tags": []
   },
   "source": [
    "In this notebook, we will cover:\n",
    "\n",
    "* Logistic Regression\n",
    "* Confusion Matrix\n",
    "* Precision, Recall, Accuracy, F1 Score\n",
    "* ROC AUC Curve\n",
    "* Deciding Binary Classifier threshold\n"
   ]
  },
  {
   "cell_type": "markdown",
   "id": "bef91bba",
   "metadata": {
    "papermill": {
     "duration": 0.012259,
     "end_time": "2025-04-25T18:38:04.688961",
     "exception": false,
     "start_time": "2025-04-25T18:38:04.676702",
     "status": "completed"
    },
    "tags": []
   },
   "source": [
    "## Importing all necessary packages"
   ]
  },
  {
   "cell_type": "code",
   "execution_count": 77,
   "id": "d5f5170b",
   "metadata": {
    "papermill": {
     "duration": 4.187683,
     "end_time": "2025-04-25T18:38:08.889541",
     "exception": false,
     "start_time": "2025-04-25T18:38:04.701858",
     "status": "completed"
    },
    "tags": []
   },
   "outputs": [],
   "source": [
    "import numpy as np\n",
    "import pandas as pd\n",
    "import matplotlib.pyplot as plt\n",
    "import seaborn as sns\n",
    "sns.set()\n",
    "%matplotlib inline"
   ]
  },
  {
   "cell_type": "markdown",
   "id": "0c090a20",
   "metadata": {
    "papermill": {
     "duration": 0.012367,
     "end_time": "2025-04-25T18:38:08.916555",
     "exception": false,
     "start_time": "2025-04-25T18:38:08.904188",
     "status": "completed"
    },
    "tags": []
   },
   "source": [
    "## Setting global seed of notebook"
   ]
  },
  {
   "cell_type": "code",
   "execution_count": 79,
   "id": "ba65ec3e",
   "metadata": {
    "papermill": {
     "duration": 0.116117,
     "end_time": "2025-04-25T18:38:09.045298",
     "exception": false,
     "start_time": "2025-04-25T18:38:08.929181",
     "status": "completed"
    },
    "tags": []
   },
   "outputs": [],
   "source": [
    "np.random.seed(seed=25)"
   ]
  },
  {
   "cell_type": "markdown",
   "id": "81d503ee",
   "metadata": {
    "papermill": {
     "duration": 0.012765,
     "end_time": "2025-04-25T18:38:09.071124",
     "exception": false,
     "start_time": "2025-04-25T18:38:09.058359",
     "status": "completed"
    },
    "tags": []
   },
   "source": [
    "# Task 1: Load Data from 'titanic_clean.csv'"
   ]
  },
  {
   "cell_type": "code",
   "execution_count": 81,
   "id": "cd575d57",
   "metadata": {
    "papermill": {
     "duration": 0.061893,
     "end_time": "2025-04-25T18:38:09.145969",
     "exception": false,
     "start_time": "2025-04-25T18:38:09.084076",
     "status": "completed"
    },
    "tags": []
   },
   "outputs": [
    {
     "data": {
      "text/html": [
       "<div>\n",
       "<style scoped>\n",
       "    .dataframe tbody tr th:only-of-type {\n",
       "        vertical-align: middle;\n",
       "    }\n",
       "\n",
       "    .dataframe tbody tr th {\n",
       "        vertical-align: top;\n",
       "    }\n",
       "\n",
       "    .dataframe thead th {\n",
       "        text-align: right;\n",
       "    }\n",
       "</style>\n",
       "<table border=\"1\" class=\"dataframe\">\n",
       "  <thead>\n",
       "    <tr style=\"text-align: right;\">\n",
       "      <th></th>\n",
       "      <th>PassengerId</th>\n",
       "      <th>Survived</th>\n",
       "      <th>Pclass</th>\n",
       "      <th>Sex</th>\n",
       "      <th>SibSp</th>\n",
       "      <th>Parch</th>\n",
       "      <th>Embarked</th>\n",
       "      <th>Title</th>\n",
       "      <th>GrpSize</th>\n",
       "      <th>FareCat</th>\n",
       "      <th>AgeCat</th>\n",
       "    </tr>\n",
       "  </thead>\n",
       "  <tbody>\n",
       "    <tr>\n",
       "      <th>0</th>\n",
       "      <td>1</td>\n",
       "      <td>0</td>\n",
       "      <td>3</td>\n",
       "      <td>male</td>\n",
       "      <td>1</td>\n",
       "      <td>0</td>\n",
       "      <td>S</td>\n",
       "      <td>Mr</td>\n",
       "      <td>couple</td>\n",
       "      <td>0-10</td>\n",
       "      <td>16-32</td>\n",
       "    </tr>\n",
       "    <tr>\n",
       "      <th>1</th>\n",
       "      <td>2</td>\n",
       "      <td>1</td>\n",
       "      <td>1</td>\n",
       "      <td>female</td>\n",
       "      <td>1</td>\n",
       "      <td>0</td>\n",
       "      <td>C</td>\n",
       "      <td>Mrs</td>\n",
       "      <td>couple</td>\n",
       "      <td>70-100</td>\n",
       "      <td>32-48</td>\n",
       "    </tr>\n",
       "    <tr>\n",
       "      <th>2</th>\n",
       "      <td>3</td>\n",
       "      <td>1</td>\n",
       "      <td>3</td>\n",
       "      <td>female</td>\n",
       "      <td>0</td>\n",
       "      <td>0</td>\n",
       "      <td>S</td>\n",
       "      <td>Miss</td>\n",
       "      <td>solo</td>\n",
       "      <td>0-10</td>\n",
       "      <td>16-32</td>\n",
       "    </tr>\n",
       "    <tr>\n",
       "      <th>3</th>\n",
       "      <td>4</td>\n",
       "      <td>1</td>\n",
       "      <td>1</td>\n",
       "      <td>female</td>\n",
       "      <td>1</td>\n",
       "      <td>0</td>\n",
       "      <td>S</td>\n",
       "      <td>Mrs</td>\n",
       "      <td>couple</td>\n",
       "      <td>40-70</td>\n",
       "      <td>32-48</td>\n",
       "    </tr>\n",
       "    <tr>\n",
       "      <th>4</th>\n",
       "      <td>138</td>\n",
       "      <td>0</td>\n",
       "      <td>1</td>\n",
       "      <td>male</td>\n",
       "      <td>1</td>\n",
       "      <td>0</td>\n",
       "      <td>S</td>\n",
       "      <td>Mr</td>\n",
       "      <td>couple</td>\n",
       "      <td>40-70</td>\n",
       "      <td>32-48</td>\n",
       "    </tr>\n",
       "  </tbody>\n",
       "</table>\n",
       "</div>"
      ],
      "text/plain": [
       "   PassengerId  Survived  Pclass     Sex  SibSp  Parch Embarked Title GrpSize  \\\n",
       "0            1         0       3    male      1      0        S    Mr  couple   \n",
       "1            2         1       1  female      1      0        C   Mrs  couple   \n",
       "2            3         1       3  female      0      0        S  Miss    solo   \n",
       "3            4         1       1  female      1      0        S   Mrs  couple   \n",
       "4          138         0       1    male      1      0        S    Mr  couple   \n",
       "\n",
       "  FareCat AgeCat  \n",
       "0    0-10  16-32  \n",
       "1  70-100  32-48  \n",
       "2    0-10  16-32  \n",
       "3   40-70  32-48  \n",
       "4   40-70  32-48  "
      ]
     },
     "execution_count": 81,
     "metadata": {},
     "output_type": "execute_result"
    }
   ],
   "source": [
    "#write code here\n",
    "data = pd.read_csv('titanic_clean.csv')\n",
    "df = data.copy()\n",
    "df.head()"
   ]
  },
  {
   "cell_type": "markdown",
   "id": "d9c67925",
   "metadata": {
    "papermill": {
     "duration": 0.013307,
     "end_time": "2025-04-25T18:38:09.241790",
     "exception": false,
     "start_time": "2025-04-25T18:38:09.228483",
     "status": "completed"
    },
    "tags": []
   },
   "source": [
    "## One Hot encoding for categorical varaibles (For Nominal)/(For Ordinal) use Lable Encoder"
   ]
  },
  {
   "cell_type": "code",
   "execution_count": 83,
   "id": "722edbc1",
   "metadata": {
    "papermill": {
     "duration": 0.053669,
     "end_time": "2025-04-25T18:38:09.308843",
     "exception": false,
     "start_time": "2025-04-25T18:38:09.255174",
     "status": "completed"
    },
    "tags": []
   },
   "outputs": [
    {
     "data": {
      "text/html": [
       "<div>\n",
       "<style scoped>\n",
       "    .dataframe tbody tr th:only-of-type {\n",
       "        vertical-align: middle;\n",
       "    }\n",
       "\n",
       "    .dataframe tbody tr th {\n",
       "        vertical-align: top;\n",
       "    }\n",
       "\n",
       "    .dataframe thead th {\n",
       "        text-align: right;\n",
       "    }\n",
       "</style>\n",
       "<table border=\"1\" class=\"dataframe\">\n",
       "  <thead>\n",
       "    <tr style=\"text-align: right;\">\n",
       "      <th></th>\n",
       "      <th>PassengerId</th>\n",
       "      <th>Survived</th>\n",
       "      <th>SibSp</th>\n",
       "      <th>Parch</th>\n",
       "      <th>Pclass_1</th>\n",
       "      <th>Pclass_2</th>\n",
       "      <th>Pclass_3</th>\n",
       "      <th>Sex_female</th>\n",
       "      <th>Sex_male</th>\n",
       "      <th>Embarked_C</th>\n",
       "      <th>...</th>\n",
       "      <th>FareCat_10-25</th>\n",
       "      <th>FareCat_100+</th>\n",
       "      <th>FareCat_25-40</th>\n",
       "      <th>FareCat_40-70</th>\n",
       "      <th>FareCat_70-100</th>\n",
       "      <th>AgeCat_0-16</th>\n",
       "      <th>AgeCat_16-32</th>\n",
       "      <th>AgeCat_32-48</th>\n",
       "      <th>AgeCat_48-64</th>\n",
       "      <th>AgeCat_64+</th>\n",
       "    </tr>\n",
       "  </thead>\n",
       "  <tbody>\n",
       "    <tr>\n",
       "      <th>0</th>\n",
       "      <td>1</td>\n",
       "      <td>0</td>\n",
       "      <td>1</td>\n",
       "      <td>0</td>\n",
       "      <td>0</td>\n",
       "      <td>0</td>\n",
       "      <td>1</td>\n",
       "      <td>0</td>\n",
       "      <td>1</td>\n",
       "      <td>0</td>\n",
       "      <td>...</td>\n",
       "      <td>0</td>\n",
       "      <td>0</td>\n",
       "      <td>0</td>\n",
       "      <td>0</td>\n",
       "      <td>0</td>\n",
       "      <td>0</td>\n",
       "      <td>1</td>\n",
       "      <td>0</td>\n",
       "      <td>0</td>\n",
       "      <td>0</td>\n",
       "    </tr>\n",
       "    <tr>\n",
       "      <th>1</th>\n",
       "      <td>2</td>\n",
       "      <td>1</td>\n",
       "      <td>1</td>\n",
       "      <td>0</td>\n",
       "      <td>1</td>\n",
       "      <td>0</td>\n",
       "      <td>0</td>\n",
       "      <td>1</td>\n",
       "      <td>0</td>\n",
       "      <td>1</td>\n",
       "      <td>...</td>\n",
       "      <td>0</td>\n",
       "      <td>0</td>\n",
       "      <td>0</td>\n",
       "      <td>0</td>\n",
       "      <td>1</td>\n",
       "      <td>0</td>\n",
       "      <td>0</td>\n",
       "      <td>1</td>\n",
       "      <td>0</td>\n",
       "      <td>0</td>\n",
       "    </tr>\n",
       "    <tr>\n",
       "      <th>2</th>\n",
       "      <td>3</td>\n",
       "      <td>1</td>\n",
       "      <td>0</td>\n",
       "      <td>0</td>\n",
       "      <td>0</td>\n",
       "      <td>0</td>\n",
       "      <td>1</td>\n",
       "      <td>1</td>\n",
       "      <td>0</td>\n",
       "      <td>0</td>\n",
       "      <td>...</td>\n",
       "      <td>0</td>\n",
       "      <td>0</td>\n",
       "      <td>0</td>\n",
       "      <td>0</td>\n",
       "      <td>0</td>\n",
       "      <td>0</td>\n",
       "      <td>1</td>\n",
       "      <td>0</td>\n",
       "      <td>0</td>\n",
       "      <td>0</td>\n",
       "    </tr>\n",
       "    <tr>\n",
       "      <th>3</th>\n",
       "      <td>4</td>\n",
       "      <td>1</td>\n",
       "      <td>1</td>\n",
       "      <td>0</td>\n",
       "      <td>1</td>\n",
       "      <td>0</td>\n",
       "      <td>0</td>\n",
       "      <td>1</td>\n",
       "      <td>0</td>\n",
       "      <td>0</td>\n",
       "      <td>...</td>\n",
       "      <td>0</td>\n",
       "      <td>0</td>\n",
       "      <td>0</td>\n",
       "      <td>1</td>\n",
       "      <td>0</td>\n",
       "      <td>0</td>\n",
       "      <td>0</td>\n",
       "      <td>1</td>\n",
       "      <td>0</td>\n",
       "      <td>0</td>\n",
       "    </tr>\n",
       "    <tr>\n",
       "      <th>4</th>\n",
       "      <td>138</td>\n",
       "      <td>0</td>\n",
       "      <td>1</td>\n",
       "      <td>0</td>\n",
       "      <td>1</td>\n",
       "      <td>0</td>\n",
       "      <td>0</td>\n",
       "      <td>0</td>\n",
       "      <td>1</td>\n",
       "      <td>0</td>\n",
       "      <td>...</td>\n",
       "      <td>0</td>\n",
       "      <td>0</td>\n",
       "      <td>0</td>\n",
       "      <td>1</td>\n",
       "      <td>0</td>\n",
       "      <td>0</td>\n",
       "      <td>0</td>\n",
       "      <td>1</td>\n",
       "      <td>0</td>\n",
       "      <td>0</td>\n",
       "    </tr>\n",
       "  </tbody>\n",
       "</table>\n",
       "<p>5 rows × 32 columns</p>\n",
       "</div>"
      ],
      "text/plain": [
       "   PassengerId  Survived  SibSp  Parch  Pclass_1  Pclass_2  Pclass_3  \\\n",
       "0            1         0      1      0         0         0         1   \n",
       "1            2         1      1      0         1         0         0   \n",
       "2            3         1      0      0         0         0         1   \n",
       "3            4         1      1      0         1         0         0   \n",
       "4          138         0      1      0         1         0         0   \n",
       "\n",
       "   Sex_female  Sex_male  Embarked_C  ...  FareCat_10-25  FareCat_100+  \\\n",
       "0           0         1           0  ...              0             0   \n",
       "1           1         0           1  ...              0             0   \n",
       "2           1         0           0  ...              0             0   \n",
       "3           1         0           0  ...              0             0   \n",
       "4           0         1           0  ...              0             0   \n",
       "\n",
       "   FareCat_25-40  FareCat_40-70  FareCat_70-100  AgeCat_0-16  AgeCat_16-32  \\\n",
       "0              0              0               0            0             1   \n",
       "1              0              0               1            0             0   \n",
       "2              0              0               0            0             1   \n",
       "3              0              1               0            0             0   \n",
       "4              0              1               0            0             0   \n",
       "\n",
       "   AgeCat_32-48  AgeCat_48-64  AgeCat_64+  \n",
       "0             0             0           0  \n",
       "1             1             0           0  \n",
       "2             0             0           0  \n",
       "3             1             0           0  \n",
       "4             1             0           0  \n",
       "\n",
       "[5 rows x 32 columns]"
      ]
     },
     "execution_count": 83,
     "metadata": {},
     "output_type": "execute_result"
    }
   ],
   "source": [
    "df_OneHot=pd.get_dummies(df,columns=['Pclass','Sex','Embarked','Title','GrpSize','FareCat','AgeCat'])\n",
    "df_OneHot = df_OneHot.astype(int)\n",
    "df_OneHot.head()"
   ]
  },
  {
   "cell_type": "code",
   "execution_count": 84,
   "id": "7e73cb89",
   "metadata": {
    "papermill": {
     "duration": 0.023921,
     "end_time": "2025-04-25T18:38:09.346826",
     "exception": false,
     "start_time": "2025-04-25T18:38:09.322905",
     "status": "completed"
    },
    "tags": []
   },
   "outputs": [
    {
     "data": {
      "text/plain": [
       "Index(['PassengerId', 'Survived', 'SibSp', 'Parch', 'Pclass_1', 'Pclass_2',\n",
       "       'Pclass_3', 'Sex_female', 'Sex_male', 'Embarked_C', 'Embarked_Q',\n",
       "       'Embarked_S', 'Title_Master', 'Title_Miss', 'Title_Mr', 'Title_Mrs',\n",
       "       'Title_Rare Title', 'GrpSize_couple', 'GrpSize_group',\n",
       "       'GrpSize_large group', 'GrpSize_solo', 'FareCat_0-10', 'FareCat_10-25',\n",
       "       'FareCat_100+', 'FareCat_25-40', 'FareCat_40-70', 'FareCat_70-100',\n",
       "       'AgeCat_0-16', 'AgeCat_16-32', 'AgeCat_32-48', 'AgeCat_48-64',\n",
       "       'AgeCat_64+'],\n",
       "      dtype='object')"
      ]
     },
     "execution_count": 84,
     "metadata": {},
     "output_type": "execute_result"
    }
   ],
   "source": [
    "df_OneHot.columns"
   ]
  },
  {
   "cell_type": "code",
   "execution_count": 85,
   "id": "11fbbb9b",
   "metadata": {
    "papermill": {
     "duration": 0.02321,
     "end_time": "2025-04-25T18:38:09.384259",
     "exception": false,
     "start_time": "2025-04-25T18:38:09.361049",
     "status": "completed"
    },
    "tags": []
   },
   "outputs": [],
   "source": [
    "df=df_OneHot.copy()"
   ]
  },
  {
   "cell_type": "markdown",
   "id": "e75a301e",
   "metadata": {
    "papermill": {
     "duration": 0.014684,
     "end_time": "2025-04-25T18:38:09.413749",
     "exception": false,
     "start_time": "2025-04-25T18:38:09.399065",
     "status": "completed"
    },
    "tags": []
   },
   "source": [
    "# Task 2: Create Independent and Dependent Variables"
   ]
  },
  {
   "cell_type": "code",
   "execution_count": 87,
   "id": "36c1319e",
   "metadata": {
    "papermill": {
     "duration": 0.025701,
     "end_time": "2025-04-25T18:38:09.454734",
     "exception": false,
     "start_time": "2025-04-25T18:38:09.429033",
     "status": "completed"
    },
    "tags": []
   },
   "outputs": [],
   "source": [
    "#write code here\n",
    "X = df.drop(['PassengerId','Survived'], axis=1)\n",
    "Y = df[['Survived']]"
   ]
  },
  {
   "cell_type": "markdown",
   "id": "235c968f",
   "metadata": {
    "papermill": {
     "duration": 0.014046,
     "end_time": "2025-04-25T18:38:09.483748",
     "exception": false,
     "start_time": "2025-04-25T18:38:09.469702",
     "status": "completed"
    },
    "tags": []
   },
   "source": [
    "# Task 3: Train Test n Split the data"
   ]
  },
  {
   "cell_type": "code",
   "execution_count": 89,
   "id": "25da5c1a",
   "metadata": {
    "papermill": {
     "duration": 0.030218,
     "end_time": "2025-04-25T18:38:09.528633",
     "exception": false,
     "start_time": "2025-04-25T18:38:09.498415",
     "status": "completed"
    },
    "tags": []
   },
   "outputs": [
    {
     "data": {
      "text/html": [
       "<div>\n",
       "<style scoped>\n",
       "    .dataframe tbody tr th:only-of-type {\n",
       "        vertical-align: middle;\n",
       "    }\n",
       "\n",
       "    .dataframe tbody tr th {\n",
       "        vertical-align: top;\n",
       "    }\n",
       "\n",
       "    .dataframe thead th {\n",
       "        text-align: right;\n",
       "    }\n",
       "</style>\n",
       "<table border=\"1\" class=\"dataframe\">\n",
       "  <thead>\n",
       "    <tr style=\"text-align: right;\">\n",
       "      <th></th>\n",
       "      <th>SibSp</th>\n",
       "      <th>Parch</th>\n",
       "      <th>Pclass_1</th>\n",
       "      <th>Pclass_2</th>\n",
       "      <th>Pclass_3</th>\n",
       "      <th>Sex_female</th>\n",
       "      <th>Sex_male</th>\n",
       "      <th>Embarked_C</th>\n",
       "      <th>Embarked_Q</th>\n",
       "      <th>Embarked_S</th>\n",
       "      <th>...</th>\n",
       "      <th>FareCat_10-25</th>\n",
       "      <th>FareCat_100+</th>\n",
       "      <th>FareCat_25-40</th>\n",
       "      <th>FareCat_40-70</th>\n",
       "      <th>FareCat_70-100</th>\n",
       "      <th>AgeCat_0-16</th>\n",
       "      <th>AgeCat_16-32</th>\n",
       "      <th>AgeCat_32-48</th>\n",
       "      <th>AgeCat_48-64</th>\n",
       "      <th>AgeCat_64+</th>\n",
       "    </tr>\n",
       "  </thead>\n",
       "  <tbody>\n",
       "    <tr>\n",
       "      <th>0</th>\n",
       "      <td>1</td>\n",
       "      <td>0</td>\n",
       "      <td>0</td>\n",
       "      <td>0</td>\n",
       "      <td>1</td>\n",
       "      <td>0</td>\n",
       "      <td>1</td>\n",
       "      <td>0</td>\n",
       "      <td>0</td>\n",
       "      <td>1</td>\n",
       "      <td>...</td>\n",
       "      <td>0</td>\n",
       "      <td>0</td>\n",
       "      <td>0</td>\n",
       "      <td>0</td>\n",
       "      <td>0</td>\n",
       "      <td>0</td>\n",
       "      <td>1</td>\n",
       "      <td>0</td>\n",
       "      <td>0</td>\n",
       "      <td>0</td>\n",
       "    </tr>\n",
       "    <tr>\n",
       "      <th>1</th>\n",
       "      <td>1</td>\n",
       "      <td>0</td>\n",
       "      <td>1</td>\n",
       "      <td>0</td>\n",
       "      <td>0</td>\n",
       "      <td>1</td>\n",
       "      <td>0</td>\n",
       "      <td>1</td>\n",
       "      <td>0</td>\n",
       "      <td>0</td>\n",
       "      <td>...</td>\n",
       "      <td>0</td>\n",
       "      <td>0</td>\n",
       "      <td>0</td>\n",
       "      <td>0</td>\n",
       "      <td>1</td>\n",
       "      <td>0</td>\n",
       "      <td>0</td>\n",
       "      <td>1</td>\n",
       "      <td>0</td>\n",
       "      <td>0</td>\n",
       "    </tr>\n",
       "    <tr>\n",
       "      <th>2</th>\n",
       "      <td>0</td>\n",
       "      <td>0</td>\n",
       "      <td>0</td>\n",
       "      <td>0</td>\n",
       "      <td>1</td>\n",
       "      <td>1</td>\n",
       "      <td>0</td>\n",
       "      <td>0</td>\n",
       "      <td>0</td>\n",
       "      <td>1</td>\n",
       "      <td>...</td>\n",
       "      <td>0</td>\n",
       "      <td>0</td>\n",
       "      <td>0</td>\n",
       "      <td>0</td>\n",
       "      <td>0</td>\n",
       "      <td>0</td>\n",
       "      <td>1</td>\n",
       "      <td>0</td>\n",
       "      <td>0</td>\n",
       "      <td>0</td>\n",
       "    </tr>\n",
       "    <tr>\n",
       "      <th>3</th>\n",
       "      <td>1</td>\n",
       "      <td>0</td>\n",
       "      <td>1</td>\n",
       "      <td>0</td>\n",
       "      <td>0</td>\n",
       "      <td>1</td>\n",
       "      <td>0</td>\n",
       "      <td>0</td>\n",
       "      <td>0</td>\n",
       "      <td>1</td>\n",
       "      <td>...</td>\n",
       "      <td>0</td>\n",
       "      <td>0</td>\n",
       "      <td>0</td>\n",
       "      <td>1</td>\n",
       "      <td>0</td>\n",
       "      <td>0</td>\n",
       "      <td>0</td>\n",
       "      <td>1</td>\n",
       "      <td>0</td>\n",
       "      <td>0</td>\n",
       "    </tr>\n",
       "    <tr>\n",
       "      <th>4</th>\n",
       "      <td>1</td>\n",
       "      <td>0</td>\n",
       "      <td>1</td>\n",
       "      <td>0</td>\n",
       "      <td>0</td>\n",
       "      <td>0</td>\n",
       "      <td>1</td>\n",
       "      <td>0</td>\n",
       "      <td>0</td>\n",
       "      <td>1</td>\n",
       "      <td>...</td>\n",
       "      <td>0</td>\n",
       "      <td>0</td>\n",
       "      <td>0</td>\n",
       "      <td>1</td>\n",
       "      <td>0</td>\n",
       "      <td>0</td>\n",
       "      <td>0</td>\n",
       "      <td>1</td>\n",
       "      <td>0</td>\n",
       "      <td>0</td>\n",
       "    </tr>\n",
       "  </tbody>\n",
       "</table>\n",
       "<p>5 rows × 30 columns</p>\n",
       "</div>"
      ],
      "text/plain": [
       "   SibSp  Parch  Pclass_1  Pclass_2  Pclass_3  Sex_female  Sex_male  \\\n",
       "0      1      0         0         0         1           0         1   \n",
       "1      1      0         1         0         0           1         0   \n",
       "2      0      0         0         0         1           1         0   \n",
       "3      1      0         1         0         0           1         0   \n",
       "4      1      0         1         0         0           0         1   \n",
       "\n",
       "   Embarked_C  Embarked_Q  Embarked_S  ...  FareCat_10-25  FareCat_100+  \\\n",
       "0           0           0           1  ...              0             0   \n",
       "1           1           0           0  ...              0             0   \n",
       "2           0           0           1  ...              0             0   \n",
       "3           0           0           1  ...              0             0   \n",
       "4           0           0           1  ...              0             0   \n",
       "\n",
       "   FareCat_25-40  FareCat_40-70  FareCat_70-100  AgeCat_0-16  AgeCat_16-32  \\\n",
       "0              0              0               0            0             1   \n",
       "1              0              0               1            0             0   \n",
       "2              0              0               0            0             1   \n",
       "3              0              1               0            0             0   \n",
       "4              0              1               0            0             0   \n",
       "\n",
       "   AgeCat_32-48  AgeCat_48-64  AgeCat_64+  \n",
       "0             0             0           0  \n",
       "1             1             0           0  \n",
       "2             0             0           0  \n",
       "3             1             0           0  \n",
       "4             1             0           0  \n",
       "\n",
       "[5 rows x 30 columns]"
      ]
     },
     "execution_count": 89,
     "metadata": {},
     "output_type": "execute_result"
    }
   ],
   "source": [
    "X.head()"
   ]
  },
  {
   "cell_type": "code",
   "execution_count": 90,
   "id": "204b0bc1",
   "metadata": {
    "papermill": {
     "duration": 0.360075,
     "end_time": "2025-04-25T18:38:09.904838",
     "exception": false,
     "start_time": "2025-04-25T18:38:09.544763",
     "status": "completed"
    },
    "tags": []
   },
   "outputs": [],
   "source": [
    "# Import the library\n",
    "from sklearn.model_selection import train_test_split"
   ]
  },
  {
   "cell_type": "code",
   "execution_count": 91,
   "id": "e266098c",
   "metadata": {
    "papermill": {
     "duration": 0.031048,
     "end_time": "2025-04-25T18:38:09.952586",
     "exception": false,
     "start_time": "2025-04-25T18:38:09.921538",
     "status": "completed"
    },
    "tags": []
   },
   "outputs": [
    {
     "name": "stdout",
     "output_type": "stream",
     "text": [
      "(623, 30) (623, 1)\n",
      "(268, 30) (268, 1)\n"
     ]
    }
   ],
   "source": [
    "#Write the code here\n",
    "xtrain, xtest, ytrain, ytest = train_test_split(X,Y,test_size=0.3,random_state=25,shuffle=True)\n",
    "print(xtrain.shape, ytrain.shape)\n",
    "print(xtest.shape, ytest.shape)"
   ]
  },
  {
   "cell_type": "code",
   "execution_count": 92,
   "id": "325add44",
   "metadata": {
    "papermill": {
     "duration": 0.034854,
     "end_time": "2025-04-25T18:38:10.002286",
     "exception": false,
     "start_time": "2025-04-25T18:38:09.967432",
     "status": "completed"
    },
    "tags": []
   },
   "outputs": [
    {
     "data": {
      "text/html": [
       "<div>\n",
       "<style scoped>\n",
       "    .dataframe tbody tr th:only-of-type {\n",
       "        vertical-align: middle;\n",
       "    }\n",
       "\n",
       "    .dataframe tbody tr th {\n",
       "        vertical-align: top;\n",
       "    }\n",
       "\n",
       "    .dataframe thead th {\n",
       "        text-align: right;\n",
       "    }\n",
       "</style>\n",
       "<table border=\"1\" class=\"dataframe\">\n",
       "  <thead>\n",
       "    <tr style=\"text-align: right;\">\n",
       "      <th></th>\n",
       "      <th>SibSp</th>\n",
       "      <th>Parch</th>\n",
       "      <th>Pclass_1</th>\n",
       "      <th>Pclass_2</th>\n",
       "      <th>Pclass_3</th>\n",
       "      <th>Sex_female</th>\n",
       "      <th>Sex_male</th>\n",
       "      <th>Embarked_C</th>\n",
       "      <th>Embarked_Q</th>\n",
       "      <th>Embarked_S</th>\n",
       "      <th>...</th>\n",
       "      <th>FareCat_10-25</th>\n",
       "      <th>FareCat_100+</th>\n",
       "      <th>FareCat_25-40</th>\n",
       "      <th>FareCat_40-70</th>\n",
       "      <th>FareCat_70-100</th>\n",
       "      <th>AgeCat_0-16</th>\n",
       "      <th>AgeCat_16-32</th>\n",
       "      <th>AgeCat_32-48</th>\n",
       "      <th>AgeCat_48-64</th>\n",
       "      <th>AgeCat_64+</th>\n",
       "    </tr>\n",
       "  </thead>\n",
       "  <tbody>\n",
       "    <tr>\n",
       "      <th>707</th>\n",
       "      <td>0</td>\n",
       "      <td>0</td>\n",
       "      <td>0</td>\n",
       "      <td>0</td>\n",
       "      <td>1</td>\n",
       "      <td>0</td>\n",
       "      <td>1</td>\n",
       "      <td>0</td>\n",
       "      <td>0</td>\n",
       "      <td>1</td>\n",
       "      <td>...</td>\n",
       "      <td>1</td>\n",
       "      <td>0</td>\n",
       "      <td>0</td>\n",
       "      <td>0</td>\n",
       "      <td>0</td>\n",
       "      <td>0</td>\n",
       "      <td>1</td>\n",
       "      <td>0</td>\n",
       "      <td>0</td>\n",
       "      <td>0</td>\n",
       "    </tr>\n",
       "    <tr>\n",
       "      <th>246</th>\n",
       "      <td>0</td>\n",
       "      <td>1</td>\n",
       "      <td>0</td>\n",
       "      <td>0</td>\n",
       "      <td>1</td>\n",
       "      <td>0</td>\n",
       "      <td>1</td>\n",
       "      <td>0</td>\n",
       "      <td>0</td>\n",
       "      <td>1</td>\n",
       "      <td>...</td>\n",
       "      <td>1</td>\n",
       "      <td>0</td>\n",
       "      <td>0</td>\n",
       "      <td>0</td>\n",
       "      <td>0</td>\n",
       "      <td>0</td>\n",
       "      <td>0</td>\n",
       "      <td>1</td>\n",
       "      <td>0</td>\n",
       "      <td>0</td>\n",
       "    </tr>\n",
       "    <tr>\n",
       "      <th>624</th>\n",
       "      <td>1</td>\n",
       "      <td>1</td>\n",
       "      <td>1</td>\n",
       "      <td>0</td>\n",
       "      <td>0</td>\n",
       "      <td>1</td>\n",
       "      <td>0</td>\n",
       "      <td>0</td>\n",
       "      <td>0</td>\n",
       "      <td>1</td>\n",
       "      <td>...</td>\n",
       "      <td>0</td>\n",
       "      <td>0</td>\n",
       "      <td>0</td>\n",
       "      <td>0</td>\n",
       "      <td>1</td>\n",
       "      <td>0</td>\n",
       "      <td>0</td>\n",
       "      <td>0</td>\n",
       "      <td>1</td>\n",
       "      <td>0</td>\n",
       "    </tr>\n",
       "    <tr>\n",
       "      <th>96</th>\n",
       "      <td>0</td>\n",
       "      <td>0</td>\n",
       "      <td>0</td>\n",
       "      <td>1</td>\n",
       "      <td>0</td>\n",
       "      <td>1</td>\n",
       "      <td>0</td>\n",
       "      <td>0</td>\n",
       "      <td>0</td>\n",
       "      <td>1</td>\n",
       "      <td>...</td>\n",
       "      <td>1</td>\n",
       "      <td>0</td>\n",
       "      <td>0</td>\n",
       "      <td>0</td>\n",
       "      <td>0</td>\n",
       "      <td>0</td>\n",
       "      <td>1</td>\n",
       "      <td>0</td>\n",
       "      <td>0</td>\n",
       "      <td>0</td>\n",
       "    </tr>\n",
       "    <tr>\n",
       "      <th>576</th>\n",
       "      <td>0</td>\n",
       "      <td>0</td>\n",
       "      <td>0</td>\n",
       "      <td>0</td>\n",
       "      <td>1</td>\n",
       "      <td>0</td>\n",
       "      <td>1</td>\n",
       "      <td>0</td>\n",
       "      <td>0</td>\n",
       "      <td>1</td>\n",
       "      <td>...</td>\n",
       "      <td>0</td>\n",
       "      <td>0</td>\n",
       "      <td>0</td>\n",
       "      <td>0</td>\n",
       "      <td>0</td>\n",
       "      <td>0</td>\n",
       "      <td>0</td>\n",
       "      <td>1</td>\n",
       "      <td>0</td>\n",
       "      <td>0</td>\n",
       "    </tr>\n",
       "  </tbody>\n",
       "</table>\n",
       "<p>5 rows × 30 columns</p>\n",
       "</div>"
      ],
      "text/plain": [
       "     SibSp  Parch  Pclass_1  Pclass_2  Pclass_3  Sex_female  Sex_male  \\\n",
       "707      0      0         0         0         1           0         1   \n",
       "246      0      1         0         0         1           0         1   \n",
       "624      1      1         1         0         0           1         0   \n",
       "96       0      0         0         1         0           1         0   \n",
       "576      0      0         0         0         1           0         1   \n",
       "\n",
       "     Embarked_C  Embarked_Q  Embarked_S  ...  FareCat_10-25  FareCat_100+  \\\n",
       "707           0           0           1  ...              1             0   \n",
       "246           0           0           1  ...              1             0   \n",
       "624           0           0           1  ...              0             0   \n",
       "96            0           0           1  ...              1             0   \n",
       "576           0           0           1  ...              0             0   \n",
       "\n",
       "     FareCat_25-40  FareCat_40-70  FareCat_70-100  AgeCat_0-16  AgeCat_16-32  \\\n",
       "707              0              0               0            0             1   \n",
       "246              0              0               0            0             0   \n",
       "624              0              0               1            0             0   \n",
       "96               0              0               0            0             1   \n",
       "576              0              0               0            0             0   \n",
       "\n",
       "     AgeCat_32-48  AgeCat_48-64  AgeCat_64+  \n",
       "707             0             0           0  \n",
       "246             1             0           0  \n",
       "624             0             1           0  \n",
       "96              0             0           0  \n",
       "576             1             0           0  \n",
       "\n",
       "[5 rows x 30 columns]"
      ]
     },
     "execution_count": 92,
     "metadata": {},
     "output_type": "execute_result"
    }
   ],
   "source": [
    "xtrain.head()"
   ]
  },
  {
   "cell_type": "code",
   "execution_count": 93,
   "id": "3a57bbc7",
   "metadata": {
    "papermill": {
     "duration": 0.027716,
     "end_time": "2025-04-25T18:38:10.046915",
     "exception": false,
     "start_time": "2025-04-25T18:38:10.019199",
     "status": "completed"
    },
    "tags": []
   },
   "outputs": [
    {
     "data": {
      "text/html": [
       "<div>\n",
       "<style scoped>\n",
       "    .dataframe tbody tr th:only-of-type {\n",
       "        vertical-align: middle;\n",
       "    }\n",
       "\n",
       "    .dataframe tbody tr th {\n",
       "        vertical-align: top;\n",
       "    }\n",
       "\n",
       "    .dataframe thead th {\n",
       "        text-align: right;\n",
       "    }\n",
       "</style>\n",
       "<table border=\"1\" class=\"dataframe\">\n",
       "  <thead>\n",
       "    <tr style=\"text-align: right;\">\n",
       "      <th></th>\n",
       "      <th>Survived</th>\n",
       "    </tr>\n",
       "  </thead>\n",
       "  <tbody>\n",
       "    <tr>\n",
       "      <th>707</th>\n",
       "      <td>0</td>\n",
       "    </tr>\n",
       "    <tr>\n",
       "      <th>246</th>\n",
       "      <td>0</td>\n",
       "    </tr>\n",
       "    <tr>\n",
       "      <th>624</th>\n",
       "      <td>1</td>\n",
       "    </tr>\n",
       "    <tr>\n",
       "      <th>96</th>\n",
       "      <td>1</td>\n",
       "    </tr>\n",
       "    <tr>\n",
       "      <th>576</th>\n",
       "      <td>0</td>\n",
       "    </tr>\n",
       "  </tbody>\n",
       "</table>\n",
       "</div>"
      ],
      "text/plain": [
       "     Survived\n",
       "707         0\n",
       "246         0\n",
       "624         1\n",
       "96          1\n",
       "576         0"
      ]
     },
     "execution_count": 93,
     "metadata": {},
     "output_type": "execute_result"
    }
   ],
   "source": [
    "ytrain.head()"
   ]
  },
  {
   "cell_type": "markdown",
   "id": "5b3128cc",
   "metadata": {
    "papermill": {
     "duration": 0.015806,
     "end_time": "2025-04-25T18:38:10.077188",
     "exception": false,
     "start_time": "2025-04-25T18:38:10.061382",
     "status": "completed"
    },
    "tags": []
   },
   "source": [
    "# Logistic Regression"
   ]
  },
  {
   "cell_type": "markdown",
   "id": "da367329",
   "metadata": {
    "papermill": {
     "duration": 0.014839,
     "end_time": "2025-04-25T18:38:10.107614",
     "exception": false,
     "start_time": "2025-04-25T18:38:10.092775",
     "status": "completed"
    },
    "tags": []
   },
   "source": [
    "## Creating Model & Training"
   ]
  },
  {
   "cell_type": "code",
   "execution_count": 96,
   "id": "3b014ee2",
   "metadata": {
    "papermill": {
     "duration": 0.133992,
     "end_time": "2025-04-25T18:38:10.256588",
     "exception": false,
     "start_time": "2025-04-25T18:38:10.122596",
     "status": "completed"
    },
    "tags": []
   },
   "outputs": [],
   "source": [
    "from sklearn.linear_model import LogisticRegression"
   ]
  },
  {
   "cell_type": "code",
   "execution_count": 97,
   "id": "9d57ae64",
   "metadata": {
    "papermill": {
     "duration": 0.022928,
     "end_time": "2025-04-25T18:38:10.293922",
     "exception": false,
     "start_time": "2025-04-25T18:38:10.270994",
     "status": "completed"
    },
    "scrolled": true,
    "tags": []
   },
   "outputs": [],
   "source": [
    "lr_model = LogisticRegression(random_state=25)"
   ]
  },
  {
   "cell_type": "code",
   "execution_count": 98,
   "id": "5c74ad07",
   "metadata": {
    "papermill": {
     "duration": 0.300841,
     "end_time": "2025-04-25T18:38:10.609643",
     "exception": false,
     "start_time": "2025-04-25T18:38:10.308802",
     "status": "completed"
    },
    "tags": []
   },
   "outputs": [
    {
     "name": "stderr",
     "output_type": "stream",
     "text": [
      "C:\\Users\\root\\AppData\\Roaming\\Python\\Python312\\site-packages\\sklearn\\utils\\validation.py:1408: DataConversionWarning: A column-vector y was passed when a 1d array was expected. Please change the shape of y to (n_samples, ), for example using ravel().\n",
      "  y = column_or_1d(y, warn=True)\n"
     ]
    },
    {
     "data": {
      "text/html": [
       "<style>#sk-container-id-1 {\n",
       "  /* Definition of color scheme common for light and dark mode */\n",
       "  --sklearn-color-text: #000;\n",
       "  --sklearn-color-text-muted: #666;\n",
       "  --sklearn-color-line: gray;\n",
       "  /* Definition of color scheme for unfitted estimators */\n",
       "  --sklearn-color-unfitted-level-0: #fff5e6;\n",
       "  --sklearn-color-unfitted-level-1: #f6e4d2;\n",
       "  --sklearn-color-unfitted-level-2: #ffe0b3;\n",
       "  --sklearn-color-unfitted-level-3: chocolate;\n",
       "  /* Definition of color scheme for fitted estimators */\n",
       "  --sklearn-color-fitted-level-0: #f0f8ff;\n",
       "  --sklearn-color-fitted-level-1: #d4ebff;\n",
       "  --sklearn-color-fitted-level-2: #b3dbfd;\n",
       "  --sklearn-color-fitted-level-3: cornflowerblue;\n",
       "\n",
       "  /* Specific color for light theme */\n",
       "  --sklearn-color-text-on-default-background: var(--sg-text-color, var(--theme-code-foreground, var(--jp-content-font-color1, black)));\n",
       "  --sklearn-color-background: var(--sg-background-color, var(--theme-background, var(--jp-layout-color0, white)));\n",
       "  --sklearn-color-border-box: var(--sg-text-color, var(--theme-code-foreground, var(--jp-content-font-color1, black)));\n",
       "  --sklearn-color-icon: #696969;\n",
       "\n",
       "  @media (prefers-color-scheme: dark) {\n",
       "    /* Redefinition of color scheme for dark theme */\n",
       "    --sklearn-color-text-on-default-background: var(--sg-text-color, var(--theme-code-foreground, var(--jp-content-font-color1, white)));\n",
       "    --sklearn-color-background: var(--sg-background-color, var(--theme-background, var(--jp-layout-color0, #111)));\n",
       "    --sklearn-color-border-box: var(--sg-text-color, var(--theme-code-foreground, var(--jp-content-font-color1, white)));\n",
       "    --sklearn-color-icon: #878787;\n",
       "  }\n",
       "}\n",
       "\n",
       "#sk-container-id-1 {\n",
       "  color: var(--sklearn-color-text);\n",
       "}\n",
       "\n",
       "#sk-container-id-1 pre {\n",
       "  padding: 0;\n",
       "}\n",
       "\n",
       "#sk-container-id-1 input.sk-hidden--visually {\n",
       "  border: 0;\n",
       "  clip: rect(1px 1px 1px 1px);\n",
       "  clip: rect(1px, 1px, 1px, 1px);\n",
       "  height: 1px;\n",
       "  margin: -1px;\n",
       "  overflow: hidden;\n",
       "  padding: 0;\n",
       "  position: absolute;\n",
       "  width: 1px;\n",
       "}\n",
       "\n",
       "#sk-container-id-1 div.sk-dashed-wrapped {\n",
       "  border: 1px dashed var(--sklearn-color-line);\n",
       "  margin: 0 0.4em 0.5em 0.4em;\n",
       "  box-sizing: border-box;\n",
       "  padding-bottom: 0.4em;\n",
       "  background-color: var(--sklearn-color-background);\n",
       "}\n",
       "\n",
       "#sk-container-id-1 div.sk-container {\n",
       "  /* jupyter's `normalize.less` sets `[hidden] { display: none; }`\n",
       "     but bootstrap.min.css set `[hidden] { display: none !important; }`\n",
       "     so we also need the `!important` here to be able to override the\n",
       "     default hidden behavior on the sphinx rendered scikit-learn.org.\n",
       "     See: https://github.com/scikit-learn/scikit-learn/issues/21755 */\n",
       "  display: inline-block !important;\n",
       "  position: relative;\n",
       "}\n",
       "\n",
       "#sk-container-id-1 div.sk-text-repr-fallback {\n",
       "  display: none;\n",
       "}\n",
       "\n",
       "div.sk-parallel-item,\n",
       "div.sk-serial,\n",
       "div.sk-item {\n",
       "  /* draw centered vertical line to link estimators */\n",
       "  background-image: linear-gradient(var(--sklearn-color-text-on-default-background), var(--sklearn-color-text-on-default-background));\n",
       "  background-size: 2px 100%;\n",
       "  background-repeat: no-repeat;\n",
       "  background-position: center center;\n",
       "}\n",
       "\n",
       "/* Parallel-specific style estimator block */\n",
       "\n",
       "#sk-container-id-1 div.sk-parallel-item::after {\n",
       "  content: \"\";\n",
       "  width: 100%;\n",
       "  border-bottom: 2px solid var(--sklearn-color-text-on-default-background);\n",
       "  flex-grow: 1;\n",
       "}\n",
       "\n",
       "#sk-container-id-1 div.sk-parallel {\n",
       "  display: flex;\n",
       "  align-items: stretch;\n",
       "  justify-content: center;\n",
       "  background-color: var(--sklearn-color-background);\n",
       "  position: relative;\n",
       "}\n",
       "\n",
       "#sk-container-id-1 div.sk-parallel-item {\n",
       "  display: flex;\n",
       "  flex-direction: column;\n",
       "}\n",
       "\n",
       "#sk-container-id-1 div.sk-parallel-item:first-child::after {\n",
       "  align-self: flex-end;\n",
       "  width: 50%;\n",
       "}\n",
       "\n",
       "#sk-container-id-1 div.sk-parallel-item:last-child::after {\n",
       "  align-self: flex-start;\n",
       "  width: 50%;\n",
       "}\n",
       "\n",
       "#sk-container-id-1 div.sk-parallel-item:only-child::after {\n",
       "  width: 0;\n",
       "}\n",
       "\n",
       "/* Serial-specific style estimator block */\n",
       "\n",
       "#sk-container-id-1 div.sk-serial {\n",
       "  display: flex;\n",
       "  flex-direction: column;\n",
       "  align-items: center;\n",
       "  background-color: var(--sklearn-color-background);\n",
       "  padding-right: 1em;\n",
       "  padding-left: 1em;\n",
       "}\n",
       "\n",
       "\n",
       "/* Toggleable style: style used for estimator/Pipeline/ColumnTransformer box that is\n",
       "clickable and can be expanded/collapsed.\n",
       "- Pipeline and ColumnTransformer use this feature and define the default style\n",
       "- Estimators will overwrite some part of the style using the `sk-estimator` class\n",
       "*/\n",
       "\n",
       "/* Pipeline and ColumnTransformer style (default) */\n",
       "\n",
       "#sk-container-id-1 div.sk-toggleable {\n",
       "  /* Default theme specific background. It is overwritten whether we have a\n",
       "  specific estimator or a Pipeline/ColumnTransformer */\n",
       "  background-color: var(--sklearn-color-background);\n",
       "}\n",
       "\n",
       "/* Toggleable label */\n",
       "#sk-container-id-1 label.sk-toggleable__label {\n",
       "  cursor: pointer;\n",
       "  display: flex;\n",
       "  width: 100%;\n",
       "  margin-bottom: 0;\n",
       "  padding: 0.5em;\n",
       "  box-sizing: border-box;\n",
       "  text-align: center;\n",
       "  align-items: start;\n",
       "  justify-content: space-between;\n",
       "  gap: 0.5em;\n",
       "}\n",
       "\n",
       "#sk-container-id-1 label.sk-toggleable__label .caption {\n",
       "  font-size: 0.6rem;\n",
       "  font-weight: lighter;\n",
       "  color: var(--sklearn-color-text-muted);\n",
       "}\n",
       "\n",
       "#sk-container-id-1 label.sk-toggleable__label-arrow:before {\n",
       "  /* Arrow on the left of the label */\n",
       "  content: \"▸\";\n",
       "  float: left;\n",
       "  margin-right: 0.25em;\n",
       "  color: var(--sklearn-color-icon);\n",
       "}\n",
       "\n",
       "#sk-container-id-1 label.sk-toggleable__label-arrow:hover:before {\n",
       "  color: var(--sklearn-color-text);\n",
       "}\n",
       "\n",
       "/* Toggleable content - dropdown */\n",
       "\n",
       "#sk-container-id-1 div.sk-toggleable__content {\n",
       "  max-height: 0;\n",
       "  max-width: 0;\n",
       "  overflow: hidden;\n",
       "  text-align: left;\n",
       "  /* unfitted */\n",
       "  background-color: var(--sklearn-color-unfitted-level-0);\n",
       "}\n",
       "\n",
       "#sk-container-id-1 div.sk-toggleable__content.fitted {\n",
       "  /* fitted */\n",
       "  background-color: var(--sklearn-color-fitted-level-0);\n",
       "}\n",
       "\n",
       "#sk-container-id-1 div.sk-toggleable__content pre {\n",
       "  margin: 0.2em;\n",
       "  border-radius: 0.25em;\n",
       "  color: var(--sklearn-color-text);\n",
       "  /* unfitted */\n",
       "  background-color: var(--sklearn-color-unfitted-level-0);\n",
       "}\n",
       "\n",
       "#sk-container-id-1 div.sk-toggleable__content.fitted pre {\n",
       "  /* unfitted */\n",
       "  background-color: var(--sklearn-color-fitted-level-0);\n",
       "}\n",
       "\n",
       "#sk-container-id-1 input.sk-toggleable__control:checked~div.sk-toggleable__content {\n",
       "  /* Expand drop-down */\n",
       "  max-height: 200px;\n",
       "  max-width: 100%;\n",
       "  overflow: auto;\n",
       "}\n",
       "\n",
       "#sk-container-id-1 input.sk-toggleable__control:checked~label.sk-toggleable__label-arrow:before {\n",
       "  content: \"▾\";\n",
       "}\n",
       "\n",
       "/* Pipeline/ColumnTransformer-specific style */\n",
       "\n",
       "#sk-container-id-1 div.sk-label input.sk-toggleable__control:checked~label.sk-toggleable__label {\n",
       "  color: var(--sklearn-color-text);\n",
       "  background-color: var(--sklearn-color-unfitted-level-2);\n",
       "}\n",
       "\n",
       "#sk-container-id-1 div.sk-label.fitted input.sk-toggleable__control:checked~label.sk-toggleable__label {\n",
       "  background-color: var(--sklearn-color-fitted-level-2);\n",
       "}\n",
       "\n",
       "/* Estimator-specific style */\n",
       "\n",
       "/* Colorize estimator box */\n",
       "#sk-container-id-1 div.sk-estimator input.sk-toggleable__control:checked~label.sk-toggleable__label {\n",
       "  /* unfitted */\n",
       "  background-color: var(--sklearn-color-unfitted-level-2);\n",
       "}\n",
       "\n",
       "#sk-container-id-1 div.sk-estimator.fitted input.sk-toggleable__control:checked~label.sk-toggleable__label {\n",
       "  /* fitted */\n",
       "  background-color: var(--sklearn-color-fitted-level-2);\n",
       "}\n",
       "\n",
       "#sk-container-id-1 div.sk-label label.sk-toggleable__label,\n",
       "#sk-container-id-1 div.sk-label label {\n",
       "  /* The background is the default theme color */\n",
       "  color: var(--sklearn-color-text-on-default-background);\n",
       "}\n",
       "\n",
       "/* On hover, darken the color of the background */\n",
       "#sk-container-id-1 div.sk-label:hover label.sk-toggleable__label {\n",
       "  color: var(--sklearn-color-text);\n",
       "  background-color: var(--sklearn-color-unfitted-level-2);\n",
       "}\n",
       "\n",
       "/* Label box, darken color on hover, fitted */\n",
       "#sk-container-id-1 div.sk-label.fitted:hover label.sk-toggleable__label.fitted {\n",
       "  color: var(--sklearn-color-text);\n",
       "  background-color: var(--sklearn-color-fitted-level-2);\n",
       "}\n",
       "\n",
       "/* Estimator label */\n",
       "\n",
       "#sk-container-id-1 div.sk-label label {\n",
       "  font-family: monospace;\n",
       "  font-weight: bold;\n",
       "  display: inline-block;\n",
       "  line-height: 1.2em;\n",
       "}\n",
       "\n",
       "#sk-container-id-1 div.sk-label-container {\n",
       "  text-align: center;\n",
       "}\n",
       "\n",
       "/* Estimator-specific */\n",
       "#sk-container-id-1 div.sk-estimator {\n",
       "  font-family: monospace;\n",
       "  border: 1px dotted var(--sklearn-color-border-box);\n",
       "  border-radius: 0.25em;\n",
       "  box-sizing: border-box;\n",
       "  margin-bottom: 0.5em;\n",
       "  /* unfitted */\n",
       "  background-color: var(--sklearn-color-unfitted-level-0);\n",
       "}\n",
       "\n",
       "#sk-container-id-1 div.sk-estimator.fitted {\n",
       "  /* fitted */\n",
       "  background-color: var(--sklearn-color-fitted-level-0);\n",
       "}\n",
       "\n",
       "/* on hover */\n",
       "#sk-container-id-1 div.sk-estimator:hover {\n",
       "  /* unfitted */\n",
       "  background-color: var(--sklearn-color-unfitted-level-2);\n",
       "}\n",
       "\n",
       "#sk-container-id-1 div.sk-estimator.fitted:hover {\n",
       "  /* fitted */\n",
       "  background-color: var(--sklearn-color-fitted-level-2);\n",
       "}\n",
       "\n",
       "/* Specification for estimator info (e.g. \"i\" and \"?\") */\n",
       "\n",
       "/* Common style for \"i\" and \"?\" */\n",
       "\n",
       ".sk-estimator-doc-link,\n",
       "a:link.sk-estimator-doc-link,\n",
       "a:visited.sk-estimator-doc-link {\n",
       "  float: right;\n",
       "  font-size: smaller;\n",
       "  line-height: 1em;\n",
       "  font-family: monospace;\n",
       "  background-color: var(--sklearn-color-background);\n",
       "  border-radius: 1em;\n",
       "  height: 1em;\n",
       "  width: 1em;\n",
       "  text-decoration: none !important;\n",
       "  margin-left: 0.5em;\n",
       "  text-align: center;\n",
       "  /* unfitted */\n",
       "  border: var(--sklearn-color-unfitted-level-1) 1pt solid;\n",
       "  color: var(--sklearn-color-unfitted-level-1);\n",
       "}\n",
       "\n",
       ".sk-estimator-doc-link.fitted,\n",
       "a:link.sk-estimator-doc-link.fitted,\n",
       "a:visited.sk-estimator-doc-link.fitted {\n",
       "  /* fitted */\n",
       "  border: var(--sklearn-color-fitted-level-1) 1pt solid;\n",
       "  color: var(--sklearn-color-fitted-level-1);\n",
       "}\n",
       "\n",
       "/* On hover */\n",
       "div.sk-estimator:hover .sk-estimator-doc-link:hover,\n",
       ".sk-estimator-doc-link:hover,\n",
       "div.sk-label-container:hover .sk-estimator-doc-link:hover,\n",
       ".sk-estimator-doc-link:hover {\n",
       "  /* unfitted */\n",
       "  background-color: var(--sklearn-color-unfitted-level-3);\n",
       "  color: var(--sklearn-color-background);\n",
       "  text-decoration: none;\n",
       "}\n",
       "\n",
       "div.sk-estimator.fitted:hover .sk-estimator-doc-link.fitted:hover,\n",
       ".sk-estimator-doc-link.fitted:hover,\n",
       "div.sk-label-container:hover .sk-estimator-doc-link.fitted:hover,\n",
       ".sk-estimator-doc-link.fitted:hover {\n",
       "  /* fitted */\n",
       "  background-color: var(--sklearn-color-fitted-level-3);\n",
       "  color: var(--sklearn-color-background);\n",
       "  text-decoration: none;\n",
       "}\n",
       "\n",
       "/* Span, style for the box shown on hovering the info icon */\n",
       ".sk-estimator-doc-link span {\n",
       "  display: none;\n",
       "  z-index: 9999;\n",
       "  position: relative;\n",
       "  font-weight: normal;\n",
       "  right: .2ex;\n",
       "  padding: .5ex;\n",
       "  margin: .5ex;\n",
       "  width: min-content;\n",
       "  min-width: 20ex;\n",
       "  max-width: 50ex;\n",
       "  color: var(--sklearn-color-text);\n",
       "  box-shadow: 2pt 2pt 4pt #999;\n",
       "  /* unfitted */\n",
       "  background: var(--sklearn-color-unfitted-level-0);\n",
       "  border: .5pt solid var(--sklearn-color-unfitted-level-3);\n",
       "}\n",
       "\n",
       ".sk-estimator-doc-link.fitted span {\n",
       "  /* fitted */\n",
       "  background: var(--sklearn-color-fitted-level-0);\n",
       "  border: var(--sklearn-color-fitted-level-3);\n",
       "}\n",
       "\n",
       ".sk-estimator-doc-link:hover span {\n",
       "  display: block;\n",
       "}\n",
       "\n",
       "/* \"?\"-specific style due to the `<a>` HTML tag */\n",
       "\n",
       "#sk-container-id-1 a.estimator_doc_link {\n",
       "  float: right;\n",
       "  font-size: 1rem;\n",
       "  line-height: 1em;\n",
       "  font-family: monospace;\n",
       "  background-color: var(--sklearn-color-background);\n",
       "  border-radius: 1rem;\n",
       "  height: 1rem;\n",
       "  width: 1rem;\n",
       "  text-decoration: none;\n",
       "  /* unfitted */\n",
       "  color: var(--sklearn-color-unfitted-level-1);\n",
       "  border: var(--sklearn-color-unfitted-level-1) 1pt solid;\n",
       "}\n",
       "\n",
       "#sk-container-id-1 a.estimator_doc_link.fitted {\n",
       "  /* fitted */\n",
       "  border: var(--sklearn-color-fitted-level-1) 1pt solid;\n",
       "  color: var(--sklearn-color-fitted-level-1);\n",
       "}\n",
       "\n",
       "/* On hover */\n",
       "#sk-container-id-1 a.estimator_doc_link:hover {\n",
       "  /* unfitted */\n",
       "  background-color: var(--sklearn-color-unfitted-level-3);\n",
       "  color: var(--sklearn-color-background);\n",
       "  text-decoration: none;\n",
       "}\n",
       "\n",
       "#sk-container-id-1 a.estimator_doc_link.fitted:hover {\n",
       "  /* fitted */\n",
       "  background-color: var(--sklearn-color-fitted-level-3);\n",
       "}\n",
       "</style><div id=\"sk-container-id-1\" class=\"sk-top-container\"><div class=\"sk-text-repr-fallback\"><pre>LogisticRegression(random_state=25)</pre><b>In a Jupyter environment, please rerun this cell to show the HTML representation or trust the notebook. <br />On GitHub, the HTML representation is unable to render, please try loading this page with nbviewer.org.</b></div><div class=\"sk-container\" hidden><div class=\"sk-item\"><div class=\"sk-estimator fitted sk-toggleable\"><input class=\"sk-toggleable__control sk-hidden--visually\" id=\"sk-estimator-id-1\" type=\"checkbox\" checked><label for=\"sk-estimator-id-1\" class=\"sk-toggleable__label fitted sk-toggleable__label-arrow\"><div><div>LogisticRegression</div></div><div><a class=\"sk-estimator-doc-link fitted\" rel=\"noreferrer\" target=\"_blank\" href=\"https://scikit-learn.org/1.6/modules/generated/sklearn.linear_model.LogisticRegression.html\">?<span>Documentation for LogisticRegression</span></a><span class=\"sk-estimator-doc-link fitted\">i<span>Fitted</span></span></div></label><div class=\"sk-toggleable__content fitted\"><pre>LogisticRegression(random_state=25)</pre></div> </div></div></div></div>"
      ],
      "text/plain": [
       "LogisticRegression(random_state=25)"
      ]
     },
     "execution_count": 98,
     "metadata": {},
     "output_type": "execute_result"
    }
   ],
   "source": [
    "lr_model.fit(xtrain, ytrain)"
   ]
  },
  {
   "cell_type": "markdown",
   "id": "194e16d8",
   "metadata": {
    "papermill": {
     "duration": 0.041108,
     "end_time": "2025-04-25T18:38:10.675917",
     "exception": false,
     "start_time": "2025-04-25T18:38:10.634809",
     "status": "completed"
    },
    "tags": []
   },
   "source": [
    "## Evaluation "
   ]
  },
  {
   "cell_type": "code",
   "execution_count": 100,
   "id": "2317e9c0",
   "metadata": {
    "papermill": {
     "duration": 0.025991,
     "end_time": "2025-04-25T18:38:10.737648",
     "exception": false,
     "start_time": "2025-04-25T18:38:10.711657",
     "status": "completed"
    },
    "tags": []
   },
   "outputs": [],
   "source": [
    "pred = lr_model.predict(xtest)"
   ]
  },
  {
   "cell_type": "code",
   "execution_count": 101,
   "id": "7abfb653",
   "metadata": {
    "papermill": {
     "duration": 0.023265,
     "end_time": "2025-04-25T18:38:10.777013",
     "exception": false,
     "start_time": "2025-04-25T18:38:10.753748",
     "status": "completed"
    },
    "tags": []
   },
   "outputs": [
    {
     "data": {
      "text/plain": [
       "array([0, 0, 0, 0, 0, 1, 0, 1, 0])"
      ]
     },
     "execution_count": 101,
     "metadata": {},
     "output_type": "execute_result"
    }
   ],
   "source": [
    "pred[0:9]"
   ]
  },
  {
   "cell_type": "markdown",
   "id": "788cd797",
   "metadata": {
    "papermill": {
     "duration": 0.020894,
     "end_time": "2025-04-25T18:38:10.812873",
     "exception": false,
     "start_time": "2025-04-25T18:38:10.791979",
     "status": "completed"
    },
    "tags": []
   },
   "source": [
    "Predicting prabability of **0** and **1**"
   ]
  },
  {
   "cell_type": "code",
   "execution_count": 103,
   "id": "6f4565d9",
   "metadata": {
    "papermill": {
     "duration": 0.025354,
     "end_time": "2025-04-25T18:38:10.853912",
     "exception": false,
     "start_time": "2025-04-25T18:38:10.828558",
     "status": "completed"
    },
    "tags": []
   },
   "outputs": [],
   "source": [
    "pred_prb = lr_model.predict_proba(xtest)"
   ]
  },
  {
   "cell_type": "code",
   "execution_count": 104,
   "id": "e8ebd1d8",
   "metadata": {
    "papermill": {
     "duration": 0.039243,
     "end_time": "2025-04-25T18:38:10.915140",
     "exception": false,
     "start_time": "2025-04-25T18:38:10.875897",
     "status": "completed"
    },
    "scrolled": true,
    "tags": []
   },
   "outputs": [
    {
     "data": {
      "text/plain": [
       "array([[9.54527891e-01, 4.54721091e-02],\n",
       "       [9.28856833e-01, 7.11431673e-02],\n",
       "       [9.00089518e-01, 9.99104823e-02],\n",
       "       [9.28856833e-01, 7.11431673e-02],\n",
       "       [9.28856833e-01, 7.11431673e-02],\n",
       "       [2.66418583e-01, 7.33581417e-01],\n",
       "       [9.28856833e-01, 7.11431673e-02],\n",
       "       [1.72712102e-01, 8.27287898e-01],\n",
       "       [9.54527891e-01, 4.54721091e-02],\n",
       "       [9.28856833e-01, 7.11431673e-02],\n",
       "       [1.01915728e-01, 8.98084272e-01],\n",
       "       [6.16920308e-01, 3.83079692e-01],\n",
       "       [9.28856833e-01, 7.11431673e-02],\n",
       "       [9.28856833e-01, 7.11431673e-02],\n",
       "       [5.38154939e-01, 4.61845061e-01],\n",
       "       [4.25512790e-01, 5.74487210e-01],\n",
       "       [8.00056700e-01, 1.99943300e-01],\n",
       "       [6.11428420e-01, 3.88571580e-01],\n",
       "       [7.16705469e-01, 2.83294531e-01],\n",
       "       [1.41524701e-01, 8.58475299e-01],\n",
       "       [6.17976739e-01, 3.82023261e-01],\n",
       "       [4.47363566e-01, 5.52636434e-01],\n",
       "       [9.91915160e-01, 8.08483987e-03],\n",
       "       [9.28856833e-01, 7.11431673e-02],\n",
       "       [6.24816686e-02, 9.37518331e-01],\n",
       "       [2.77615406e-02, 9.72238459e-01],\n",
       "       [8.73857900e-01, 1.26142100e-01],\n",
       "       [4.78190827e-01, 5.21809173e-01],\n",
       "       [6.11428420e-01, 3.88571580e-01],\n",
       "       [1.95955265e-01, 8.04044735e-01],\n",
       "       [8.73857900e-01, 1.26142100e-01],\n",
       "       [2.85568309e-01, 7.14431691e-01],\n",
       "       [2.21773859e-01, 7.78226141e-01],\n",
       "       [9.54527891e-01, 4.54721091e-02],\n",
       "       [8.45700653e-01, 1.54299347e-01],\n",
       "       [1.46344935e-01, 8.53655065e-01],\n",
       "       [1.75433264e-01, 8.24566736e-01],\n",
       "       [5.91861499e-01, 4.08138501e-01],\n",
       "       [8.48561406e-01, 1.51438594e-01],\n",
       "       [4.67865036e-01, 5.32134964e-01],\n",
       "       [9.32700347e-01, 6.72996532e-02],\n",
       "       [9.25766814e-01, 7.42331856e-02],\n",
       "       [8.73857900e-01, 1.26142100e-01],\n",
       "       [3.16909129e-01, 6.83090871e-01],\n",
       "       [8.33977654e-01, 1.66022346e-01],\n",
       "       [9.28856833e-01, 7.11431673e-02],\n",
       "       [1.23227146e-01, 8.76772854e-01],\n",
       "       [8.33977654e-01, 1.66022346e-01],\n",
       "       [8.89823705e-01, 1.10176295e-01],\n",
       "       [2.01208505e-01, 7.98791495e-01],\n",
       "       [6.36447142e-01, 3.63552858e-01],\n",
       "       [8.73857900e-01, 1.26142100e-01],\n",
       "       [2.61029930e-01, 7.38970070e-01],\n",
       "       [8.68747688e-01, 1.31252312e-01],\n",
       "       [2.19589908e-01, 7.80410092e-01],\n",
       "       [9.12282229e-01, 8.77177711e-02],\n",
       "       [9.54527891e-01, 4.54721091e-02],\n",
       "       [8.47396875e-02, 9.15260312e-01],\n",
       "       [8.54750167e-01, 1.45249833e-01],\n",
       "       [2.15055635e-01, 7.84944365e-01],\n",
       "       [3.81668700e-02, 9.61833130e-01],\n",
       "       [8.86235169e-02, 9.11376483e-01],\n",
       "       [3.00634735e-01, 6.99365265e-01],\n",
       "       [8.33977654e-01, 1.66022346e-01],\n",
       "       [9.59004380e-01, 4.09956195e-02],\n",
       "       [9.28856833e-01, 7.11431673e-02],\n",
       "       [2.41505817e-01, 7.58494183e-01],\n",
       "       [6.10360904e-01, 3.89639096e-01],\n",
       "       [9.28856833e-01, 7.11431673e-02],\n",
       "       [2.80956488e-01, 7.19043512e-01],\n",
       "       [3.89099197e-01, 6.10900803e-01],\n",
       "       [9.28856833e-01, 7.11431673e-02],\n",
       "       [8.23606588e-01, 1.76393412e-01],\n",
       "       [6.36447142e-01, 3.63552858e-01],\n",
       "       [9.39245295e-01, 6.07547054e-02],\n",
       "       [8.33977654e-01, 1.66022346e-01],\n",
       "       [8.89823705e-01, 1.10176295e-01],\n",
       "       [4.87863957e-02, 9.51213604e-01],\n",
       "       [8.73857900e-01, 1.26142100e-01],\n",
       "       [9.59653665e-01, 4.03463348e-02],\n",
       "       [2.82127185e-01, 7.17872815e-01],\n",
       "       [8.47899674e-01, 1.52100326e-01],\n",
       "       [2.21773859e-01, 7.78226141e-01],\n",
       "       [2.65602461e-01, 7.34397539e-01],\n",
       "       [8.87083726e-01, 1.12916274e-01],\n",
       "       [9.39373658e-01, 6.06263422e-02],\n",
       "       [3.52798007e-02, 9.64720199e-01],\n",
       "       [9.57048655e-01, 4.29513447e-02],\n",
       "       [4.11891202e-01, 5.88108798e-01],\n",
       "       [8.34132750e-02, 9.16586725e-01],\n",
       "       [9.12282229e-01, 8.77177711e-02],\n",
       "       [9.99537818e-01, 4.62181753e-04],\n",
       "       [4.33900467e-02, 9.56609953e-01],\n",
       "       [9.12282229e-01, 8.77177711e-02],\n",
       "       [9.95394088e-01, 4.60591207e-03],\n",
       "       [9.28856833e-01, 7.11431673e-02],\n",
       "       [9.28856833e-01, 7.11431673e-02],\n",
       "       [5.36690361e-01, 4.63309639e-01],\n",
       "       [9.28856833e-01, 7.11431673e-02],\n",
       "       [6.22191138e-02, 9.37780886e-01],\n",
       "       [9.28856833e-01, 7.11431673e-02],\n",
       "       [5.49370948e-01, 4.50629052e-01],\n",
       "       [9.37173030e-01, 6.28269698e-02],\n",
       "       [9.28856833e-01, 7.11431673e-02],\n",
       "       [3.14211798e-01, 6.85788202e-01],\n",
       "       [6.36447142e-01, 3.63552858e-01],\n",
       "       [9.28856833e-01, 7.11431673e-02],\n",
       "       [9.28856833e-01, 7.11431673e-02],\n",
       "       [6.24816686e-02, 9.37518331e-01],\n",
       "       [4.25512790e-01, 5.74487210e-01],\n",
       "       [2.82127185e-01, 7.17872815e-01],\n",
       "       [9.33500304e-01, 6.64996963e-02],\n",
       "       [6.36447142e-01, 3.63552858e-01],\n",
       "       [5.43557944e-01, 4.56442056e-01],\n",
       "       [9.39245295e-01, 6.07547054e-02],\n",
       "       [1.75433264e-01, 8.24566736e-01],\n",
       "       [9.54527891e-01, 4.54721091e-02],\n",
       "       [3.17875908e-01, 6.82124092e-01],\n",
       "       [5.51527172e-01, 4.48472828e-01],\n",
       "       [8.73857900e-01, 1.26142100e-01],\n",
       "       [5.82377568e-01, 4.17622432e-01],\n",
       "       [3.78049087e-01, 6.21950913e-01],\n",
       "       [9.28856833e-01, 7.11431673e-02],\n",
       "       [9.28856833e-01, 7.11431673e-02],\n",
       "       [2.92125365e-02, 9.70787464e-01],\n",
       "       [7.97110992e-01, 2.02889008e-01],\n",
       "       [9.12282229e-01, 8.77177711e-02],\n",
       "       [8.33977654e-01, 1.66022346e-01],\n",
       "       [9.29116911e-01, 7.08830889e-02],\n",
       "       [9.28856833e-01, 7.11431673e-02],\n",
       "       [7.16705469e-01, 2.83294531e-01],\n",
       "       [9.18287397e-01, 8.17126030e-02],\n",
       "       [7.78781986e-01, 2.21218014e-01],\n",
       "       [6.11428420e-01, 3.88571580e-01],\n",
       "       [9.12282229e-01, 8.77177711e-02],\n",
       "       [9.41471056e-01, 5.85289443e-02],\n",
       "       [4.25512790e-01, 5.74487210e-01],\n",
       "       [9.43570674e-01, 5.64293265e-02],\n",
       "       [9.28856833e-01, 7.11431673e-02],\n",
       "       [8.28218597e-01, 1.71781403e-01],\n",
       "       [9.28856833e-01, 7.11431673e-02],\n",
       "       [7.97898169e-01, 2.02101831e-01],\n",
       "       [4.49541475e-02, 9.55045853e-01],\n",
       "       [5.43501088e-01, 4.56498912e-01],\n",
       "       [9.25766814e-01, 7.42331856e-02],\n",
       "       [2.82127185e-01, 7.17872815e-01],\n",
       "       [7.16139136e-01, 2.83860864e-01],\n",
       "       [9.53312615e-01, 4.66873850e-02],\n",
       "       [8.35099363e-01, 1.64900637e-01],\n",
       "       [9.54527891e-01, 4.54721091e-02],\n",
       "       [8.34432356e-01, 1.65567644e-01],\n",
       "       [9.28856833e-01, 7.11431673e-02],\n",
       "       [8.73857900e-01, 1.26142100e-01],\n",
       "       [8.35099363e-01, 1.64900637e-01],\n",
       "       [3.52798007e-02, 9.64720199e-01],\n",
       "       [9.28856833e-01, 7.11431673e-02],\n",
       "       [2.13306213e-01, 7.86693787e-01],\n",
       "       [8.33977654e-01, 1.66022346e-01],\n",
       "       [4.63647176e-01, 5.36352824e-01],\n",
       "       [8.83807711e-01, 1.16192289e-01],\n",
       "       [9.14636338e-01, 8.53636621e-02],\n",
       "       [1.16865196e-01, 8.83134804e-01],\n",
       "       [4.34897319e-02, 9.56510268e-01],\n",
       "       [9.60282694e-01, 3.97173064e-02],\n",
       "       [9.28856833e-01, 7.11431673e-02],\n",
       "       [2.21773859e-01, 7.78226141e-01],\n",
       "       [8.33977654e-01, 1.66022346e-01],\n",
       "       [3.36588193e-01, 6.63411807e-01],\n",
       "       [9.12282229e-01, 8.77177711e-02],\n",
       "       [9.28856833e-01, 7.11431673e-02],\n",
       "       [6.99086432e-02, 9.30091357e-01],\n",
       "       [9.28856833e-01, 7.11431673e-02],\n",
       "       [9.05319746e-01, 9.46802537e-02],\n",
       "       [5.46637052e-01, 4.53362948e-01],\n",
       "       [9.60282694e-01, 3.97173064e-02],\n",
       "       [8.50350396e-01, 1.49649604e-01],\n",
       "       [8.23606588e-01, 1.76393412e-01],\n",
       "       [3.14211798e-01, 6.85788202e-01],\n",
       "       [4.38939606e-02, 9.56106039e-01],\n",
       "       [3.47523587e-02, 9.65247641e-01],\n",
       "       [7.04948187e-01, 2.95051813e-01],\n",
       "       [6.32515972e-01, 3.67484028e-01],\n",
       "       [8.33977654e-01, 1.66022346e-01],\n",
       "       [9.54527891e-01, 4.54721091e-02],\n",
       "       [9.54527891e-01, 4.54721091e-02],\n",
       "       [3.02398395e-01, 6.97601605e-01],\n",
       "       [9.54527891e-01, 4.54721091e-02],\n",
       "       [3.92260047e-01, 6.07739953e-01],\n",
       "       [8.07161844e-01, 1.92838156e-01],\n",
       "       [8.73857900e-01, 1.26142100e-01],\n",
       "       [6.21970486e-01, 3.78029514e-01],\n",
       "       [4.25512790e-01, 5.74487210e-01],\n",
       "       [9.55257998e-01, 4.47420018e-02],\n",
       "       [9.25766814e-01, 7.42331856e-02],\n",
       "       [1.35448940e-01, 8.64551060e-01],\n",
       "       [1.28558768e-01, 8.71441232e-01],\n",
       "       [9.28856833e-01, 7.11431673e-02],\n",
       "       [9.28856833e-01, 7.11431673e-02],\n",
       "       [6.36447142e-01, 3.63552858e-01],\n",
       "       [1.86995142e-01, 8.13004858e-01],\n",
       "       [6.27186862e-02, 9.37281314e-01],\n",
       "       [4.15661820e-02, 9.58433818e-01],\n",
       "       [6.87431880e-01, 3.12568120e-01],\n",
       "       [9.28856833e-01, 7.11431673e-02],\n",
       "       [8.78642605e-01, 1.21357395e-01],\n",
       "       [9.54527891e-01, 4.54721091e-02],\n",
       "       [3.89099197e-01, 6.10900803e-01],\n",
       "       [6.22191138e-02, 9.37780886e-01],\n",
       "       [9.55671059e-01, 4.43289413e-02],\n",
       "       [9.12282229e-01, 8.77177711e-02],\n",
       "       [8.00187197e-01, 1.99812803e-01],\n",
       "       [8.87083726e-01, 1.12916274e-01],\n",
       "       [6.17976739e-01, 3.82023261e-01],\n",
       "       [9.28856833e-01, 7.11431673e-02],\n",
       "       [9.28856833e-01, 7.11431673e-02],\n",
       "       [7.18958797e-01, 2.81041203e-01],\n",
       "       [2.31685295e-01, 7.68314705e-01],\n",
       "       [2.21773859e-01, 7.78226141e-01],\n",
       "       [9.28856833e-01, 7.11431673e-02],\n",
       "       [6.47417690e-01, 3.52582310e-01],\n",
       "       [8.91474595e-01, 1.08525405e-01],\n",
       "       [6.53452323e-01, 3.46547677e-01],\n",
       "       [9.28856833e-01, 7.11431673e-02],\n",
       "       [7.16705469e-01, 2.83294531e-01],\n",
       "       [9.54527891e-01, 4.54721091e-02],\n",
       "       [9.54527891e-01, 4.54721091e-02],\n",
       "       [9.27686907e-01, 7.23130930e-02],\n",
       "       [9.28856833e-01, 7.11431673e-02],\n",
       "       [4.40159622e-01, 5.59840378e-01],\n",
       "       [3.52798007e-02, 9.64720199e-01],\n",
       "       [2.54216714e-01, 7.45783286e-01],\n",
       "       [3.91630921e-02, 9.60836908e-01],\n",
       "       [9.12282229e-01, 8.77177711e-02],\n",
       "       [9.28856833e-01, 7.11431673e-02],\n",
       "       [8.00056700e-01, 1.99943300e-01],\n",
       "       [4.66787714e-02, 9.53321229e-01],\n",
       "       [2.82127185e-01, 7.17872815e-01],\n",
       "       [5.78249170e-01, 4.21750830e-01],\n",
       "       [9.12282229e-01, 8.77177711e-02],\n",
       "       [3.12251479e-01, 6.87748521e-01],\n",
       "       [9.40198013e-01, 5.98019874e-02],\n",
       "       [9.12282229e-01, 8.77177711e-02],\n",
       "       [9.93464865e-01, 6.53513477e-03],\n",
       "       [4.47603777e-01, 5.52396223e-01],\n",
       "       [8.30058205e-01, 1.69941795e-01],\n",
       "       [9.53587643e-02, 9.04641236e-01],\n",
       "       [7.16705469e-01, 2.83294531e-01],\n",
       "       [1.35448940e-01, 8.64551060e-01],\n",
       "       [6.86384623e-01, 3.13615377e-01],\n",
       "       [5.78249170e-01, 4.21750830e-01],\n",
       "       [9.28856833e-01, 7.11431673e-02],\n",
       "       [3.89099197e-01, 6.10900803e-01],\n",
       "       [5.82662113e-02, 9.41733789e-01],\n",
       "       [8.33977654e-01, 1.66022346e-01],\n",
       "       [5.78249170e-01, 4.21750830e-01],\n",
       "       [5.01527980e-01, 4.98472020e-01],\n",
       "       [9.28856833e-01, 7.11431673e-02],\n",
       "       [8.73857900e-01, 1.26142100e-01],\n",
       "       [2.01208505e-01, 7.98791495e-01],\n",
       "       [7.28581024e-01, 2.71418976e-01],\n",
       "       [9.25766814e-01, 7.42331856e-02],\n",
       "       [2.21773859e-01, 7.78226141e-01],\n",
       "       [1.31345917e-01, 8.68654083e-01],\n",
       "       [7.68867307e-02, 9.23113269e-01],\n",
       "       [1.63062216e-01, 8.36937784e-01],\n",
       "       [9.28856833e-01, 7.11431673e-02],\n",
       "       [9.54527891e-01, 4.54721091e-02],\n",
       "       [9.52815581e-01, 4.71844190e-02]])"
      ]
     },
     "execution_count": 104,
     "metadata": {},
     "output_type": "execute_result"
    }
   ],
   "source": [
    "pred_prb"
   ]
  },
  {
   "cell_type": "code",
   "execution_count": 105,
   "id": "877c0dc3",
   "metadata": {
    "papermill": {
     "duration": 0.026779,
     "end_time": "2025-04-25T18:38:10.968915",
     "exception": false,
     "start_time": "2025-04-25T18:38:10.942136",
     "status": "completed"
    },
    "tags": []
   },
   "outputs": [
    {
     "data": {
      "text/plain": [
       "array([[0.95452789, 0.04547211],\n",
       "       [0.92885683, 0.07114317],\n",
       "       [0.90008952, 0.09991048],\n",
       "       [0.92885683, 0.07114317],\n",
       "       [0.92885683, 0.07114317],\n",
       "       [0.26641858, 0.73358142],\n",
       "       [0.92885683, 0.07114317],\n",
       "       [0.1727121 , 0.8272879 ],\n",
       "       [0.95452789, 0.04547211]])"
      ]
     },
     "execution_count": 105,
     "metadata": {},
     "output_type": "execute_result"
    }
   ],
   "source": [
    "pred_prb[0:9]"
   ]
  },
  {
   "cell_type": "markdown",
   "id": "57e5a7a7",
   "metadata": {
    "papermill": {
     "duration": 0.017061,
     "end_time": "2025-04-25T18:38:11.008478",
     "exception": false,
     "start_time": "2025-04-25T18:38:10.991417",
     "status": "completed"
    },
    "tags": []
   },
   "source": [
    "First value in Numpy array is probability of **0** and second is probability of **1**"
   ]
  },
  {
   "cell_type": "markdown",
   "id": "260f1f19",
   "metadata": {
    "papermill": {
     "duration": 0.015717,
     "end_time": "2025-04-25T18:38:11.040753",
     "exception": false,
     "start_time": "2025-04-25T18:38:11.025036",
     "status": "completed"
    },
    "tags": []
   },
   "source": [
    "Only predicting and extracting probability values of **1**"
   ]
  },
  {
   "cell_type": "code",
   "execution_count": 108,
   "id": "60d120d8",
   "metadata": {
    "papermill": {
     "duration": 0.026122,
     "end_time": "2025-04-25T18:38:11.084657",
     "exception": false,
     "start_time": "2025-04-25T18:38:11.058535",
     "status": "completed"
    },
    "tags": []
   },
   "outputs": [],
   "source": [
    "lr_pred_prb = lr_model.predict_proba(xtest)[:,1]"
   ]
  },
  {
   "cell_type": "code",
   "execution_count": 109,
   "id": "245f7b86",
   "metadata": {
    "papermill": {
     "duration": 0.028495,
     "end_time": "2025-04-25T18:38:11.132797",
     "exception": false,
     "start_time": "2025-04-25T18:38:11.104302",
     "status": "completed"
    },
    "scrolled": true,
    "tags": []
   },
   "outputs": [
    {
     "data": {
      "text/plain": [
       "array([4.54721091e-02, 7.11431673e-02, 9.99104823e-02, 7.11431673e-02,\n",
       "       7.11431673e-02, 7.33581417e-01, 7.11431673e-02, 8.27287898e-01,\n",
       "       4.54721091e-02, 7.11431673e-02, 8.98084272e-01, 3.83079692e-01,\n",
       "       7.11431673e-02, 7.11431673e-02, 4.61845061e-01, 5.74487210e-01,\n",
       "       1.99943300e-01, 3.88571580e-01, 2.83294531e-01, 8.58475299e-01,\n",
       "       3.82023261e-01, 5.52636434e-01, 8.08483987e-03, 7.11431673e-02,\n",
       "       9.37518331e-01, 9.72238459e-01, 1.26142100e-01, 5.21809173e-01,\n",
       "       3.88571580e-01, 8.04044735e-01, 1.26142100e-01, 7.14431691e-01,\n",
       "       7.78226141e-01, 4.54721091e-02, 1.54299347e-01, 8.53655065e-01,\n",
       "       8.24566736e-01, 4.08138501e-01, 1.51438594e-01, 5.32134964e-01,\n",
       "       6.72996532e-02, 7.42331856e-02, 1.26142100e-01, 6.83090871e-01,\n",
       "       1.66022346e-01, 7.11431673e-02, 8.76772854e-01, 1.66022346e-01,\n",
       "       1.10176295e-01, 7.98791495e-01, 3.63552858e-01, 1.26142100e-01,\n",
       "       7.38970070e-01, 1.31252312e-01, 7.80410092e-01, 8.77177711e-02,\n",
       "       4.54721091e-02, 9.15260312e-01, 1.45249833e-01, 7.84944365e-01,\n",
       "       9.61833130e-01, 9.11376483e-01, 6.99365265e-01, 1.66022346e-01,\n",
       "       4.09956195e-02, 7.11431673e-02, 7.58494183e-01, 3.89639096e-01,\n",
       "       7.11431673e-02, 7.19043512e-01, 6.10900803e-01, 7.11431673e-02,\n",
       "       1.76393412e-01, 3.63552858e-01, 6.07547054e-02, 1.66022346e-01,\n",
       "       1.10176295e-01, 9.51213604e-01, 1.26142100e-01, 4.03463348e-02,\n",
       "       7.17872815e-01, 1.52100326e-01, 7.78226141e-01, 7.34397539e-01,\n",
       "       1.12916274e-01, 6.06263422e-02, 9.64720199e-01, 4.29513447e-02,\n",
       "       5.88108798e-01, 9.16586725e-01, 8.77177711e-02, 4.62181753e-04,\n",
       "       9.56609953e-01, 8.77177711e-02, 4.60591207e-03, 7.11431673e-02,\n",
       "       7.11431673e-02, 4.63309639e-01, 7.11431673e-02, 9.37780886e-01,\n",
       "       7.11431673e-02, 4.50629052e-01, 6.28269698e-02, 7.11431673e-02,\n",
       "       6.85788202e-01, 3.63552858e-01, 7.11431673e-02, 7.11431673e-02,\n",
       "       9.37518331e-01, 5.74487210e-01, 7.17872815e-01, 6.64996963e-02,\n",
       "       3.63552858e-01, 4.56442056e-01, 6.07547054e-02, 8.24566736e-01,\n",
       "       4.54721091e-02, 6.82124092e-01, 4.48472828e-01, 1.26142100e-01,\n",
       "       4.17622432e-01, 6.21950913e-01, 7.11431673e-02, 7.11431673e-02,\n",
       "       9.70787464e-01, 2.02889008e-01, 8.77177711e-02, 1.66022346e-01,\n",
       "       7.08830889e-02, 7.11431673e-02, 2.83294531e-01, 8.17126030e-02,\n",
       "       2.21218014e-01, 3.88571580e-01, 8.77177711e-02, 5.85289443e-02,\n",
       "       5.74487210e-01, 5.64293265e-02, 7.11431673e-02, 1.71781403e-01,\n",
       "       7.11431673e-02, 2.02101831e-01, 9.55045853e-01, 4.56498912e-01,\n",
       "       7.42331856e-02, 7.17872815e-01, 2.83860864e-01, 4.66873850e-02,\n",
       "       1.64900637e-01, 4.54721091e-02, 1.65567644e-01, 7.11431673e-02,\n",
       "       1.26142100e-01, 1.64900637e-01, 9.64720199e-01, 7.11431673e-02,\n",
       "       7.86693787e-01, 1.66022346e-01, 5.36352824e-01, 1.16192289e-01,\n",
       "       8.53636621e-02, 8.83134804e-01, 9.56510268e-01, 3.97173064e-02,\n",
       "       7.11431673e-02, 7.78226141e-01, 1.66022346e-01, 6.63411807e-01,\n",
       "       8.77177711e-02, 7.11431673e-02, 9.30091357e-01, 7.11431673e-02,\n",
       "       9.46802537e-02, 4.53362948e-01, 3.97173064e-02, 1.49649604e-01,\n",
       "       1.76393412e-01, 6.85788202e-01, 9.56106039e-01, 9.65247641e-01,\n",
       "       2.95051813e-01, 3.67484028e-01, 1.66022346e-01, 4.54721091e-02,\n",
       "       4.54721091e-02, 6.97601605e-01, 4.54721091e-02, 6.07739953e-01,\n",
       "       1.92838156e-01, 1.26142100e-01, 3.78029514e-01, 5.74487210e-01,\n",
       "       4.47420018e-02, 7.42331856e-02, 8.64551060e-01, 8.71441232e-01,\n",
       "       7.11431673e-02, 7.11431673e-02, 3.63552858e-01, 8.13004858e-01,\n",
       "       9.37281314e-01, 9.58433818e-01, 3.12568120e-01, 7.11431673e-02,\n",
       "       1.21357395e-01, 4.54721091e-02, 6.10900803e-01, 9.37780886e-01,\n",
       "       4.43289413e-02, 8.77177711e-02, 1.99812803e-01, 1.12916274e-01,\n",
       "       3.82023261e-01, 7.11431673e-02, 7.11431673e-02, 2.81041203e-01,\n",
       "       7.68314705e-01, 7.78226141e-01, 7.11431673e-02, 3.52582310e-01,\n",
       "       1.08525405e-01, 3.46547677e-01, 7.11431673e-02, 2.83294531e-01,\n",
       "       4.54721091e-02, 4.54721091e-02, 7.23130930e-02, 7.11431673e-02,\n",
       "       5.59840378e-01, 9.64720199e-01, 7.45783286e-01, 9.60836908e-01,\n",
       "       8.77177711e-02, 7.11431673e-02, 1.99943300e-01, 9.53321229e-01,\n",
       "       7.17872815e-01, 4.21750830e-01, 8.77177711e-02, 6.87748521e-01,\n",
       "       5.98019874e-02, 8.77177711e-02, 6.53513477e-03, 5.52396223e-01,\n",
       "       1.69941795e-01, 9.04641236e-01, 2.83294531e-01, 8.64551060e-01,\n",
       "       3.13615377e-01, 4.21750830e-01, 7.11431673e-02, 6.10900803e-01,\n",
       "       9.41733789e-01, 1.66022346e-01, 4.21750830e-01, 4.98472020e-01,\n",
       "       7.11431673e-02, 1.26142100e-01, 7.98791495e-01, 2.71418976e-01,\n",
       "       7.42331856e-02, 7.78226141e-01, 8.68654083e-01, 9.23113269e-01,\n",
       "       8.36937784e-01, 7.11431673e-02, 4.54721091e-02, 4.71844190e-02])"
      ]
     },
     "execution_count": 109,
     "metadata": {},
     "output_type": "execute_result"
    }
   ],
   "source": [
    "lr_pred_prb"
   ]
  },
  {
   "cell_type": "markdown",
   "id": "0f5d188f",
   "metadata": {
    "papermill": {
     "duration": 0.016641,
     "end_time": "2025-04-25T18:38:11.172626",
     "exception": false,
     "start_time": "2025-04-25T18:38:11.155985",
     "status": "completed"
    },
    "tags": []
   },
   "source": [
    "## Comparison of Predicted and Actual"
   ]
  },
  {
   "cell_type": "code",
   "execution_count": 111,
   "id": "0f654f7a",
   "metadata": {
    "papermill": {
     "duration": 0.04574,
     "end_time": "2025-04-25T18:38:11.233775",
     "exception": false,
     "start_time": "2025-04-25T18:38:11.188035",
     "status": "completed"
    },
    "scrolled": true,
    "tags": []
   },
   "outputs": [
    {
     "data": {
      "text/html": [
       "<div>\n",
       "<style scoped>\n",
       "    .dataframe tbody tr th:only-of-type {\n",
       "        vertical-align: middle;\n",
       "    }\n",
       "\n",
       "    .dataframe tbody tr th {\n",
       "        vertical-align: top;\n",
       "    }\n",
       "\n",
       "    .dataframe thead th {\n",
       "        text-align: right;\n",
       "    }\n",
       "</style>\n",
       "<table border=\"1\" class=\"dataframe\">\n",
       "  <thead>\n",
       "    <tr style=\"text-align: right;\">\n",
       "      <th></th>\n",
       "      <th>SibSp</th>\n",
       "      <th>Parch</th>\n",
       "      <th>Pclass_1</th>\n",
       "      <th>Pclass_2</th>\n",
       "      <th>Pclass_3</th>\n",
       "      <th>Sex_female</th>\n",
       "      <th>Sex_male</th>\n",
       "      <th>Embarked_C</th>\n",
       "      <th>Embarked_Q</th>\n",
       "      <th>Embarked_S</th>\n",
       "      <th>...</th>\n",
       "      <th>FareCat_10-25</th>\n",
       "      <th>FareCat_100+</th>\n",
       "      <th>FareCat_25-40</th>\n",
       "      <th>FareCat_40-70</th>\n",
       "      <th>FareCat_70-100</th>\n",
       "      <th>AgeCat_0-16</th>\n",
       "      <th>AgeCat_16-32</th>\n",
       "      <th>AgeCat_32-48</th>\n",
       "      <th>AgeCat_48-64</th>\n",
       "      <th>AgeCat_64+</th>\n",
       "    </tr>\n",
       "  </thead>\n",
       "  <tbody>\n",
       "    <tr>\n",
       "      <th>760</th>\n",
       "      <td>0</td>\n",
       "      <td>0</td>\n",
       "      <td>0</td>\n",
       "      <td>0</td>\n",
       "      <td>1</td>\n",
       "      <td>0</td>\n",
       "      <td>1</td>\n",
       "      <td>0</td>\n",
       "      <td>0</td>\n",
       "      <td>1</td>\n",
       "      <td>...</td>\n",
       "      <td>0</td>\n",
       "      <td>0</td>\n",
       "      <td>0</td>\n",
       "      <td>0</td>\n",
       "      <td>0</td>\n",
       "      <td>0</td>\n",
       "      <td>0</td>\n",
       "      <td>1</td>\n",
       "      <td>0</td>\n",
       "      <td>0</td>\n",
       "    </tr>\n",
       "    <tr>\n",
       "      <th>773</th>\n",
       "      <td>0</td>\n",
       "      <td>0</td>\n",
       "      <td>0</td>\n",
       "      <td>0</td>\n",
       "      <td>1</td>\n",
       "      <td>0</td>\n",
       "      <td>1</td>\n",
       "      <td>0</td>\n",
       "      <td>0</td>\n",
       "      <td>1</td>\n",
       "      <td>...</td>\n",
       "      <td>0</td>\n",
       "      <td>0</td>\n",
       "      <td>0</td>\n",
       "      <td>0</td>\n",
       "      <td>0</td>\n",
       "      <td>0</td>\n",
       "      <td>1</td>\n",
       "      <td>0</td>\n",
       "      <td>0</td>\n",
       "      <td>0</td>\n",
       "    </tr>\n",
       "    <tr>\n",
       "      <th>266</th>\n",
       "      <td>0</td>\n",
       "      <td>0</td>\n",
       "      <td>0</td>\n",
       "      <td>0</td>\n",
       "      <td>1</td>\n",
       "      <td>0</td>\n",
       "      <td>1</td>\n",
       "      <td>0</td>\n",
       "      <td>0</td>\n",
       "      <td>1</td>\n",
       "      <td>...</td>\n",
       "      <td>0</td>\n",
       "      <td>0</td>\n",
       "      <td>0</td>\n",
       "      <td>0</td>\n",
       "      <td>0</td>\n",
       "      <td>0</td>\n",
       "      <td>0</td>\n",
       "      <td>1</td>\n",
       "      <td>0</td>\n",
       "      <td>0</td>\n",
       "    </tr>\n",
       "    <tr>\n",
       "      <th>507</th>\n",
       "      <td>0</td>\n",
       "      <td>0</td>\n",
       "      <td>0</td>\n",
       "      <td>0</td>\n",
       "      <td>1</td>\n",
       "      <td>0</td>\n",
       "      <td>1</td>\n",
       "      <td>0</td>\n",
       "      <td>0</td>\n",
       "      <td>1</td>\n",
       "      <td>...</td>\n",
       "      <td>0</td>\n",
       "      <td>0</td>\n",
       "      <td>0</td>\n",
       "      <td>0</td>\n",
       "      <td>0</td>\n",
       "      <td>0</td>\n",
       "      <td>1</td>\n",
       "      <td>0</td>\n",
       "      <td>0</td>\n",
       "      <td>0</td>\n",
       "    </tr>\n",
       "    <tr>\n",
       "      <th>524</th>\n",
       "      <td>0</td>\n",
       "      <td>0</td>\n",
       "      <td>0</td>\n",
       "      <td>0</td>\n",
       "      <td>1</td>\n",
       "      <td>0</td>\n",
       "      <td>1</td>\n",
       "      <td>0</td>\n",
       "      <td>0</td>\n",
       "      <td>1</td>\n",
       "      <td>...</td>\n",
       "      <td>0</td>\n",
       "      <td>0</td>\n",
       "      <td>0</td>\n",
       "      <td>0</td>\n",
       "      <td>0</td>\n",
       "      <td>0</td>\n",
       "      <td>1</td>\n",
       "      <td>0</td>\n",
       "      <td>0</td>\n",
       "      <td>0</td>\n",
       "    </tr>\n",
       "  </tbody>\n",
       "</table>\n",
       "<p>5 rows × 30 columns</p>\n",
       "</div>"
      ],
      "text/plain": [
       "     SibSp  Parch  Pclass_1  Pclass_2  Pclass_3  Sex_female  Sex_male  \\\n",
       "760      0      0         0         0         1           0         1   \n",
       "773      0      0         0         0         1           0         1   \n",
       "266      0      0         0         0         1           0         1   \n",
       "507      0      0         0         0         1           0         1   \n",
       "524      0      0         0         0         1           0         1   \n",
       "\n",
       "     Embarked_C  Embarked_Q  Embarked_S  ...  FareCat_10-25  FareCat_100+  \\\n",
       "760           0           0           1  ...              0             0   \n",
       "773           0           0           1  ...              0             0   \n",
       "266           0           0           1  ...              0             0   \n",
       "507           0           0           1  ...              0             0   \n",
       "524           0           0           1  ...              0             0   \n",
       "\n",
       "     FareCat_25-40  FareCat_40-70  FareCat_70-100  AgeCat_0-16  AgeCat_16-32  \\\n",
       "760              0              0               0            0             0   \n",
       "773              0              0               0            0             1   \n",
       "266              0              0               0            0             0   \n",
       "507              0              0               0            0             1   \n",
       "524              0              0               0            0             1   \n",
       "\n",
       "     AgeCat_32-48  AgeCat_48-64  AgeCat_64+  \n",
       "760             1             0           0  \n",
       "773             0             0           0  \n",
       "266             1             0           0  \n",
       "507             0             0           0  \n",
       "524             0             0           0  \n",
       "\n",
       "[5 rows x 30 columns]"
      ]
     },
     "execution_count": 111,
     "metadata": {},
     "output_type": "execute_result"
    }
   ],
   "source": [
    "xtest.head()"
   ]
  },
  {
   "cell_type": "code",
   "execution_count": 112,
   "id": "54485e67",
   "metadata": {
    "papermill": {
     "duration": 0.047376,
     "end_time": "2025-04-25T18:38:11.300198",
     "exception": false,
     "start_time": "2025-04-25T18:38:11.252822",
     "status": "completed"
    },
    "tags": []
   },
   "outputs": [
    {
     "data": {
      "text/html": [
       "<div>\n",
       "<style scoped>\n",
       "    .dataframe tbody tr th:only-of-type {\n",
       "        vertical-align: middle;\n",
       "    }\n",
       "\n",
       "    .dataframe tbody tr th {\n",
       "        vertical-align: top;\n",
       "    }\n",
       "\n",
       "    .dataframe thead th {\n",
       "        text-align: right;\n",
       "    }\n",
       "</style>\n",
       "<table border=\"1\" class=\"dataframe\">\n",
       "  <thead>\n",
       "    <tr style=\"text-align: right;\">\n",
       "      <th></th>\n",
       "      <th>SibSp</th>\n",
       "      <th>Parch</th>\n",
       "      <th>Pclass_1</th>\n",
       "      <th>Pclass_2</th>\n",
       "      <th>Pclass_3</th>\n",
       "      <th>Sex_female</th>\n",
       "      <th>Sex_male</th>\n",
       "      <th>Embarked_C</th>\n",
       "      <th>Embarked_Q</th>\n",
       "      <th>Embarked_S</th>\n",
       "      <th>...</th>\n",
       "      <th>FareCat_40-70</th>\n",
       "      <th>FareCat_70-100</th>\n",
       "      <th>AgeCat_0-16</th>\n",
       "      <th>AgeCat_16-32</th>\n",
       "      <th>AgeCat_32-48</th>\n",
       "      <th>AgeCat_48-64</th>\n",
       "      <th>AgeCat_64+</th>\n",
       "      <th>pred</th>\n",
       "      <th>pred_probability</th>\n",
       "      <th>actual</th>\n",
       "    </tr>\n",
       "  </thead>\n",
       "  <tbody>\n",
       "    <tr>\n",
       "      <th>760</th>\n",
       "      <td>0</td>\n",
       "      <td>0</td>\n",
       "      <td>0</td>\n",
       "      <td>0</td>\n",
       "      <td>1</td>\n",
       "      <td>0</td>\n",
       "      <td>1</td>\n",
       "      <td>0</td>\n",
       "      <td>0</td>\n",
       "      <td>1</td>\n",
       "      <td>...</td>\n",
       "      <td>0</td>\n",
       "      <td>0</td>\n",
       "      <td>0</td>\n",
       "      <td>0</td>\n",
       "      <td>1</td>\n",
       "      <td>0</td>\n",
       "      <td>0</td>\n",
       "      <td>0</td>\n",
       "      <td>0.045472</td>\n",
       "      <td>0</td>\n",
       "    </tr>\n",
       "    <tr>\n",
       "      <th>773</th>\n",
       "      <td>0</td>\n",
       "      <td>0</td>\n",
       "      <td>0</td>\n",
       "      <td>0</td>\n",
       "      <td>1</td>\n",
       "      <td>0</td>\n",
       "      <td>1</td>\n",
       "      <td>0</td>\n",
       "      <td>0</td>\n",
       "      <td>1</td>\n",
       "      <td>...</td>\n",
       "      <td>0</td>\n",
       "      <td>0</td>\n",
       "      <td>0</td>\n",
       "      <td>1</td>\n",
       "      <td>0</td>\n",
       "      <td>0</td>\n",
       "      <td>0</td>\n",
       "      <td>0</td>\n",
       "      <td>0.071143</td>\n",
       "      <td>0</td>\n",
       "    </tr>\n",
       "    <tr>\n",
       "      <th>266</th>\n",
       "      <td>0</td>\n",
       "      <td>0</td>\n",
       "      <td>0</td>\n",
       "      <td>0</td>\n",
       "      <td>1</td>\n",
       "      <td>0</td>\n",
       "      <td>1</td>\n",
       "      <td>0</td>\n",
       "      <td>0</td>\n",
       "      <td>1</td>\n",
       "      <td>...</td>\n",
       "      <td>0</td>\n",
       "      <td>0</td>\n",
       "      <td>0</td>\n",
       "      <td>0</td>\n",
       "      <td>1</td>\n",
       "      <td>0</td>\n",
       "      <td>0</td>\n",
       "      <td>0</td>\n",
       "      <td>0.099910</td>\n",
       "      <td>0</td>\n",
       "    </tr>\n",
       "    <tr>\n",
       "      <th>507</th>\n",
       "      <td>0</td>\n",
       "      <td>0</td>\n",
       "      <td>0</td>\n",
       "      <td>0</td>\n",
       "      <td>1</td>\n",
       "      <td>0</td>\n",
       "      <td>1</td>\n",
       "      <td>0</td>\n",
       "      <td>0</td>\n",
       "      <td>1</td>\n",
       "      <td>...</td>\n",
       "      <td>0</td>\n",
       "      <td>0</td>\n",
       "      <td>0</td>\n",
       "      <td>1</td>\n",
       "      <td>0</td>\n",
       "      <td>0</td>\n",
       "      <td>0</td>\n",
       "      <td>0</td>\n",
       "      <td>0.071143</td>\n",
       "      <td>1</td>\n",
       "    </tr>\n",
       "    <tr>\n",
       "      <th>524</th>\n",
       "      <td>0</td>\n",
       "      <td>0</td>\n",
       "      <td>0</td>\n",
       "      <td>0</td>\n",
       "      <td>1</td>\n",
       "      <td>0</td>\n",
       "      <td>1</td>\n",
       "      <td>0</td>\n",
       "      <td>0</td>\n",
       "      <td>1</td>\n",
       "      <td>...</td>\n",
       "      <td>0</td>\n",
       "      <td>0</td>\n",
       "      <td>0</td>\n",
       "      <td>1</td>\n",
       "      <td>0</td>\n",
       "      <td>0</td>\n",
       "      <td>0</td>\n",
       "      <td>0</td>\n",
       "      <td>0.071143</td>\n",
       "      <td>0</td>\n",
       "    </tr>\n",
       "  </tbody>\n",
       "</table>\n",
       "<p>5 rows × 33 columns</p>\n",
       "</div>"
      ],
      "text/plain": [
       "     SibSp  Parch  Pclass_1  Pclass_2  Pclass_3  Sex_female  Sex_male  \\\n",
       "760      0      0         0         0         1           0         1   \n",
       "773      0      0         0         0         1           0         1   \n",
       "266      0      0         0         0         1           0         1   \n",
       "507      0      0         0         0         1           0         1   \n",
       "524      0      0         0         0         1           0         1   \n",
       "\n",
       "     Embarked_C  Embarked_Q  Embarked_S  ...  FareCat_40-70  FareCat_70-100  \\\n",
       "760           0           0           1  ...              0               0   \n",
       "773           0           0           1  ...              0               0   \n",
       "266           0           0           1  ...              0               0   \n",
       "507           0           0           1  ...              0               0   \n",
       "524           0           0           1  ...              0               0   \n",
       "\n",
       "     AgeCat_0-16  AgeCat_16-32  AgeCat_32-48  AgeCat_48-64  AgeCat_64+  pred  \\\n",
       "760            0             0             1             0           0     0   \n",
       "773            0             1             0             0           0     0   \n",
       "266            0             0             1             0           0     0   \n",
       "507            0             1             0             0           0     0   \n",
       "524            0             1             0             0           0     0   \n",
       "\n",
       "     pred_probability  actual  \n",
       "760          0.045472       0  \n",
       "773          0.071143       0  \n",
       "266          0.099910       0  \n",
       "507          0.071143       1  \n",
       "524          0.071143       0  \n",
       "\n",
       "[5 rows x 33 columns]"
      ]
     },
     "execution_count": 112,
     "metadata": {},
     "output_type": "execute_result"
    }
   ],
   "source": [
    "xt = xtest.copy()\n",
    "xt['pred'] = pred\n",
    "xt['pred_probability'] = lr_pred_prb\n",
    "xt['actual'] = ytest\n",
    "xt.head()"
   ]
  },
  {
   "cell_type": "markdown",
   "id": "4bc941e9",
   "metadata": {
    "papermill": {
     "duration": 0.015705,
     "end_time": "2025-04-25T18:38:11.338243",
     "exception": false,
     "start_time": "2025-04-25T18:38:11.322538",
     "status": "completed"
    },
    "tags": []
   },
   "source": [
    "## Confusion Matrix Play ground"
   ]
  },
  {
   "cell_type": "code",
   "execution_count": 114,
   "id": "1a3c3778",
   "metadata": {
    "papermill": {
     "duration": 0.022958,
     "end_time": "2025-04-25T18:38:11.377593",
     "exception": false,
     "start_time": "2025-04-25T18:38:11.354635",
     "status": "completed"
    },
    "tags": []
   },
   "outputs": [],
   "source": [
    "from sklearn.metrics import confusion_matrix"
   ]
  },
  {
   "cell_type": "code",
   "execution_count": 115,
   "id": "0433db11",
   "metadata": {
    "papermill": {
     "duration": 0.035264,
     "end_time": "2025-04-25T18:38:11.428693",
     "exception": false,
     "start_time": "2025-04-25T18:38:11.393429",
     "status": "completed"
    },
    "tags": []
   },
   "outputs": [
    {
     "data": {
      "text/plain": [
       "array([[151,  18],\n",
       "       [ 29,  70]])"
      ]
     },
     "execution_count": 115,
     "metadata": {},
     "output_type": "execute_result"
    }
   ],
   "source": [
    "confusion_matrix(ytest, pred)"
   ]
  },
  {
   "cell_type": "code",
   "execution_count": 116,
   "id": "a9ecdc91",
   "metadata": {
    "papermill": {
     "duration": 0.030271,
     "end_time": "2025-04-25T18:38:11.474934",
     "exception": false,
     "start_time": "2025-04-25T18:38:11.444663",
     "status": "completed"
    },
    "tags": []
   },
   "outputs": [
    {
     "data": {
      "text/plain": [
       "array([151,  18,  29,  70])"
      ]
     },
     "execution_count": 116,
     "metadata": {},
     "output_type": "execute_result"
    }
   ],
   "source": [
    "confusion_matrix(ytest, pred).ravel()"
   ]
  },
  {
   "cell_type": "code",
   "execution_count": 117,
   "id": "df3d67f3",
   "metadata": {
    "papermill": {
     "duration": 0.037763,
     "end_time": "2025-04-25T18:38:11.529229",
     "exception": false,
     "start_time": "2025-04-25T18:38:11.491466",
     "status": "completed"
    },
    "tags": []
   },
   "outputs": [
    {
     "data": {
      "text/html": [
       "<div>\n",
       "<style scoped>\n",
       "    .dataframe tbody tr th:only-of-type {\n",
       "        vertical-align: middle;\n",
       "    }\n",
       "\n",
       "    .dataframe tbody tr th {\n",
       "        vertical-align: top;\n",
       "    }\n",
       "\n",
       "    .dataframe thead th {\n",
       "        text-align: right;\n",
       "    }\n",
       "</style>\n",
       "<table border=\"1\" class=\"dataframe\">\n",
       "  <thead>\n",
       "    <tr style=\"text-align: right;\">\n",
       "      <th></th>\n",
       "      <th>pred_Survived</th>\n",
       "      <th>pred_Not Survived</th>\n",
       "    </tr>\n",
       "  </thead>\n",
       "  <tbody>\n",
       "    <tr>\n",
       "      <th>Survived</th>\n",
       "      <td>70</td>\n",
       "      <td>29</td>\n",
       "    </tr>\n",
       "    <tr>\n",
       "      <th>Not Survived</th>\n",
       "      <td>18</td>\n",
       "      <td>151</td>\n",
       "    </tr>\n",
       "  </tbody>\n",
       "</table>\n",
       "</div>"
      ],
      "text/plain": [
       "              pred_Survived  pred_Not Survived\n",
       "Survived                 70                 29\n",
       "Not Survived             18                151"
      ]
     },
     "execution_count": 117,
     "metadata": {},
     "output_type": "execute_result"
    }
   ],
   "source": [
    "tn, fp, fn, tp = confusion_matrix(ytest, pred).ravel()\n",
    "conf_matrix=pd.DataFrame({\"pred_Survived\":[tp,fp],\"pred_Not Survived\":[fn,tn]},index=[\"Survived\",\"Not Survived\"])\n",
    "conf_matrix"
   ]
  },
  {
   "cell_type": "markdown",
   "id": "01a0c8ef",
   "metadata": {
    "papermill": {
     "duration": 0.019052,
     "end_time": "2025-04-25T18:38:11.564626",
     "exception": false,
     "start_time": "2025-04-25T18:38:11.545574",
     "status": "completed"
    },
    "tags": []
   },
   "source": [
    "## Accuracy"
   ]
  },
  {
   "cell_type": "code",
   "execution_count": 119,
   "id": "29d83973",
   "metadata": {
    "papermill": {
     "duration": 0.025483,
     "end_time": "2025-04-25T18:38:11.606340",
     "exception": false,
     "start_time": "2025-04-25T18:38:11.580857",
     "status": "completed"
    },
    "tags": []
   },
   "outputs": [],
   "source": [
    "from sklearn.metrics import accuracy_score"
   ]
  },
  {
   "cell_type": "code",
   "execution_count": 120,
   "id": "6a4d211b",
   "metadata": {
    "papermill": {
     "duration": 0.026415,
     "end_time": "2025-04-25T18:38:11.650475",
     "exception": false,
     "start_time": "2025-04-25T18:38:11.624060",
     "status": "completed"
    },
    "tags": []
   },
   "outputs": [
    {
     "name": "stdout",
     "output_type": "stream",
     "text": [
      "Accuracy: 0.8246268656716418\n"
     ]
    }
   ],
   "source": [
    "accuracy = (tp + tn) / (tp + fp + tn + fn)\n",
    "print(\"Accuracy: {}\".format(accuracy))"
   ]
  },
  {
   "cell_type": "code",
   "execution_count": 121,
   "id": "48e3c1d8",
   "metadata": {
    "papermill": {
     "duration": 0.03106,
     "end_time": "2025-04-25T18:38:11.697993",
     "exception": false,
     "start_time": "2025-04-25T18:38:11.666933",
     "status": "completed"
    },
    "tags": []
   },
   "outputs": [
    {
     "name": "stdout",
     "output_type": "stream",
     "text": [
      "Accuracy by built-in function: 0.8246268656716418\n"
     ]
    }
   ],
   "source": [
    "accuracy_lr = accuracy_score(ytest,pred)\n",
    "print(\"Accuracy by built-in function: {}\".format(accuracy_lr))"
   ]
  },
  {
   "cell_type": "markdown",
   "id": "4d78bccc",
   "metadata": {
    "papermill": {
     "duration": 0.016408,
     "end_time": "2025-04-25T18:38:11.730620",
     "exception": false,
     "start_time": "2025-04-25T18:38:11.714212",
     "status": "completed"
    },
    "tags": []
   },
   "source": [
    "## Precision"
   ]
  },
  {
   "cell_type": "code",
   "execution_count": 123,
   "id": "92e1bcdf",
   "metadata": {
    "papermill": {
     "duration": 0.024451,
     "end_time": "2025-04-25T18:38:11.771301",
     "exception": false,
     "start_time": "2025-04-25T18:38:11.746850",
     "status": "completed"
    },
    "tags": []
   },
   "outputs": [],
   "source": [
    "from sklearn.metrics import precision_score"
   ]
  },
  {
   "cell_type": "code",
   "execution_count": 124,
   "id": "8dc04fe8",
   "metadata": {
    "papermill": {
     "duration": 0.025842,
     "end_time": "2025-04-25T18:38:11.820455",
     "exception": false,
     "start_time": "2025-04-25T18:38:11.794613",
     "status": "completed"
    },
    "tags": []
   },
   "outputs": [
    {
     "name": "stdout",
     "output_type": "stream",
     "text": [
      "Precision for 1: 0.7954545454545454\n",
      "Precision for 0: 0.8388888888888889\n"
     ]
    }
   ],
   "source": [
    "precision_1 = tp / (tp + fp)\n",
    "print(\"Precision for 1: {}\".format(precision_1))\n",
    "precision_0 = tn / (tn + fn)\n",
    "print(\"Precision for 0: {}\".format(precision_0))"
   ]
  },
  {
   "cell_type": "code",
   "execution_count": 125,
   "id": "959b4864",
   "metadata": {
    "papermill": {
     "duration": 0.033116,
     "end_time": "2025-04-25T18:38:11.869948",
     "exception": false,
     "start_time": "2025-04-25T18:38:11.836832",
     "status": "completed"
    },
    "tags": []
   },
   "outputs": [
    {
     "name": "stdout",
     "output_type": "stream",
     "text": [
      "Precision by built-in function: 0.7954545454545454\n"
     ]
    }
   ],
   "source": [
    "precision_lr = precision_score(ytest,pred)\n",
    "print(\"Precision by built-in function: {}\".format(precision_lr))"
   ]
  },
  {
   "cell_type": "code",
   "execution_count": 126,
   "id": "220ef5d9",
   "metadata": {
    "papermill": {
     "duration": 0.033038,
     "end_time": "2025-04-25T18:38:11.920477",
     "exception": false,
     "start_time": "2025-04-25T18:38:11.887439",
     "status": "completed"
    },
    "tags": []
   },
   "outputs": [
    {
     "name": "stdout",
     "output_type": "stream",
     "text": [
      "Precision by built-in function: 0.7954545454545454\n"
     ]
    }
   ],
   "source": [
    "precision_lr = precision_score(ytest,pred)\n",
    "print(\"Precision by built-in function:\",precision_lr)"
   ]
  },
  {
   "cell_type": "markdown",
   "id": "dd7bd6d3",
   "metadata": {
    "papermill": {
     "duration": 0.016606,
     "end_time": "2025-04-25T18:38:11.958145",
     "exception": false,
     "start_time": "2025-04-25T18:38:11.941539",
     "status": "completed"
    },
    "tags": []
   },
   "source": [
    "## Recall"
   ]
  },
  {
   "cell_type": "code",
   "execution_count": 128,
   "id": "6d83baf6",
   "metadata": {
    "papermill": {
     "duration": 0.024276,
     "end_time": "2025-04-25T18:38:11.999462",
     "exception": false,
     "start_time": "2025-04-25T18:38:11.975186",
     "status": "completed"
    },
    "tags": []
   },
   "outputs": [],
   "source": [
    "from sklearn.metrics import recall_score"
   ]
  },
  {
   "cell_type": "code",
   "execution_count": 129,
   "id": "b7d31455",
   "metadata": {
    "papermill": {
     "duration": 0.026582,
     "end_time": "2025-04-25T18:38:12.049535",
     "exception": false,
     "start_time": "2025-04-25T18:38:12.022953",
     "status": "completed"
    },
    "tags": []
   },
   "outputs": [
    {
     "name": "stdout",
     "output_type": "stream",
     "text": [
      "Recall for 1: 0.7070707070707071\n",
      "Recall for 0: 0.893491124260355\n"
     ]
    }
   ],
   "source": [
    "recall_1 = tp / (tp + fn)\n",
    "print(\"Recall for 1: {}\".format(recall_1))\n",
    "recall_0 = tn / (tn + fp)\n",
    "print(\"Recall for 0: {}\".format(recall_0))"
   ]
  },
  {
   "cell_type": "code",
   "execution_count": 130,
   "id": "642fe85d",
   "metadata": {
    "papermill": {
     "duration": 0.031888,
     "end_time": "2025-04-25T18:38:12.099730",
     "exception": false,
     "start_time": "2025-04-25T18:38:12.067842",
     "status": "completed"
    },
    "tags": []
   },
   "outputs": [
    {
     "name": "stdout",
     "output_type": "stream",
     "text": [
      "Recall by built-in function: 0.7070707070707071\n"
     ]
    }
   ],
   "source": [
    "recall_lr = recall_score(ytest,pred)\n",
    "print(\"Recall by built-in function: {}\".format(recall_lr))"
   ]
  },
  {
   "cell_type": "markdown",
   "id": "745f1d05",
   "metadata": {
    "papermill": {
     "duration": 0.01633,
     "end_time": "2025-04-25T18:38:12.132918",
     "exception": false,
     "start_time": "2025-04-25T18:38:12.116588",
     "status": "completed"
    },
    "tags": []
   },
   "source": [
    "## F1 Score"
   ]
  },
  {
   "cell_type": "code",
   "execution_count": 132,
   "id": "c8c070be",
   "metadata": {
    "papermill": {
     "duration": 0.025501,
     "end_time": "2025-04-25T18:38:12.175157",
     "exception": false,
     "start_time": "2025-04-25T18:38:12.149656",
     "status": "completed"
    },
    "tags": []
   },
   "outputs": [],
   "source": [
    "from sklearn.metrics import f1_score"
   ]
  },
  {
   "cell_type": "code",
   "execution_count": 133,
   "id": "507426dd",
   "metadata": {
    "papermill": {
     "duration": 0.026092,
     "end_time": "2025-04-25T18:38:12.223439",
     "exception": false,
     "start_time": "2025-04-25T18:38:12.197347",
     "status": "completed"
    },
    "tags": []
   },
   "outputs": [
    {
     "name": "stdout",
     "output_type": "stream",
     "text": [
      "F1 Score for 1: 0.748663101604278\n",
      "F1 Score for 0: 0.8653295128939829\n"
     ]
    }
   ],
   "source": [
    "f1_1 = (2 * precision_1 * recall_1) / (precision_1 + recall_1)\n",
    "print(\"F1 Score for 1: {}\".format(f1_1))\n",
    "f1_0 = (2 * precision_0 * recall_0) / (precision_0 + recall_0)\n",
    "print(\"F1 Score for 0: {}\".format(f1_0))"
   ]
  },
  {
   "cell_type": "code",
   "execution_count": 134,
   "id": "161d6eb2",
   "metadata": {
    "papermill": {
     "duration": 0.037531,
     "end_time": "2025-04-25T18:38:12.278063",
     "exception": false,
     "start_time": "2025-04-25T18:38:12.240532",
     "status": "completed"
    },
    "tags": []
   },
   "outputs": [
    {
     "name": "stdout",
     "output_type": "stream",
     "text": [
      "F1 Score by built-in function: 0.7486631016042781\n"
     ]
    }
   ],
   "source": [
    "f1_lr=f1_score(ytest,pred)\n",
    "print(\"F1 Score by built-in function: {}\".format(f1_lr))"
   ]
  },
  {
   "cell_type": "markdown",
   "id": "27c63df5",
   "metadata": {
    "papermill": {
     "duration": 0.017449,
     "end_time": "2025-04-25T18:38:12.312408",
     "exception": false,
     "start_time": "2025-04-25T18:38:12.294959",
     "status": "completed"
    },
    "tags": []
   },
   "source": [
    "## Class Distribution in Training Data"
   ]
  },
  {
   "cell_type": "code",
   "execution_count": 136,
   "id": "e2541c67",
   "metadata": {
    "papermill": {
     "duration": 0.033989,
     "end_time": "2025-04-25T18:38:12.365927",
     "exception": false,
     "start_time": "2025-04-25T18:38:12.331938",
     "status": "completed"
    },
    "tags": []
   },
   "outputs": [
    {
     "data": {
      "text/plain": [
       "Survived\n",
       "0           380\n",
       "1           243\n",
       "Name: count, dtype: int64"
      ]
     },
     "execution_count": 136,
     "metadata": {},
     "output_type": "execute_result"
    }
   ],
   "source": [
    "ytrain.value_counts()"
   ]
  },
  {
   "cell_type": "code",
   "execution_count": 137,
   "id": "a1f45fda",
   "metadata": {
    "papermill": {
     "duration": 0.028004,
     "end_time": "2025-04-25T18:38:12.410598",
     "exception": false,
     "start_time": "2025-04-25T18:38:12.382594",
     "status": "completed"
    },
    "tags": []
   },
   "outputs": [
    {
     "data": {
      "text/plain": [
       "Survived\n",
       "0           169\n",
       "1            99\n",
       "Name: count, dtype: int64"
      ]
     },
     "execution_count": 137,
     "metadata": {},
     "output_type": "execute_result"
    }
   ],
   "source": [
    "ytest.value_counts()"
   ]
  },
  {
   "cell_type": "markdown",
   "id": "de263aed",
   "metadata": {
    "papermill": {
     "duration": 0.016089,
     "end_time": "2025-04-25T18:38:12.444680",
     "exception": false,
     "start_time": "2025-04-25T18:38:12.428591",
     "status": "completed"
    },
    "tags": []
   },
   "source": [
    "## Classification Report"
   ]
  },
  {
   "cell_type": "code",
   "execution_count": 139,
   "id": "ac5976dd",
   "metadata": {
    "papermill": {
     "duration": 0.023824,
     "end_time": "2025-04-25T18:38:12.485800",
     "exception": false,
     "start_time": "2025-04-25T18:38:12.461976",
     "status": "completed"
    },
    "tags": []
   },
   "outputs": [],
   "source": [
    "from sklearn.metrics import classification_report"
   ]
  },
  {
   "cell_type": "code",
   "execution_count": 140,
   "id": "2fec9d17",
   "metadata": {
    "papermill": {
     "duration": 0.035296,
     "end_time": "2025-04-25T18:38:12.538470",
     "exception": false,
     "start_time": "2025-04-25T18:38:12.503174",
     "status": "completed"
    },
    "tags": []
   },
   "outputs": [
    {
     "name": "stdout",
     "output_type": "stream",
     "text": [
      "              precision    recall  f1-score   support\n",
      "\n",
      "           0       0.84      0.89      0.87       169\n",
      "           1       0.80      0.71      0.75        99\n",
      "\n",
      "    accuracy                           0.82       268\n",
      "   macro avg       0.82      0.80      0.81       268\n",
      "weighted avg       0.82      0.82      0.82       268\n",
      "\n"
     ]
    }
   ],
   "source": [
    "#get report of precision recall and f1 score\n",
    "print(classification_report(ytest,pred))\n",
    "#macro avg "
   ]
  },
  {
   "cell_type": "code",
   "execution_count": 141,
   "id": "8827b075",
   "metadata": {
    "papermill": {
     "duration": 0.02727,
     "end_time": "2025-04-25T18:38:12.583967",
     "exception": false,
     "start_time": "2025-04-25T18:38:12.556697",
     "status": "completed"
    },
    "tags": []
   },
   "outputs": [],
   "source": [
    "def adjusted_classes(pred_prob, threshold):\n",
    "    \"\"\"\n",
    "    This function adjusts class predictions based on the prediction threshold (t).\n",
    "    Will only work for binary classification problems.\n",
    "    \"\"\"\n",
    "    return [1 if y >= threshold else 0 for y in pred_prob]\n",
    "\n",
    "def conf_matrix(ytest,lr_pred_prb,threshold=0.5):\n",
    "    pred_adj = adjusted_classes(lr_pred_prb, threshold)\n",
    "    tn, fp, fn, tp = confusion_matrix(ytest, pred_adj).ravel()\n",
    "   \n",
    "    #confusion matrix\n",
    "    print(pd.DataFrame({\"pred_Survived\":[tp,fp],\"pred_Not Survived\":[fn,tn]},index=[\"Survived\",\"Not Survived\"]))\n",
    "    \n",
    "    #accuracy\n",
    "    print(\"Accuracy: %0.3f\"%((tp+tn)/(tn+fp+fn+tp)*100))\n",
    "    \n",
    "    #precision\n",
    "    precision_1 = tp / (tp + fp)\n",
    "    print(\"Precision : %0.3f\"% (precision_1*100))\n",
    "       \n",
    "    #recall\n",
    "    recall_1 = tp / (tp + fn)\n",
    "    print(\"Recall: %0.3f\"%(recall_1*100))\n",
    "    \n",
    "    #f1 score\n",
    "    f1_1 = (2 * precision_1 * recall_1) / (precision_1 + recall_1)\n",
    "    print(\"F1 Score : %0.3f\"%(f1_1*100))\n",
    "\n",
    "    tpr = tp / (fn + tp)\n",
    "    fpr = fp / (fp + tn)\n",
    "    print(\"TPR: %0.3f\"%(tpr*100),\" FPR: %0.3f\"%(fpr*100))"
   ]
  },
  {
   "cell_type": "code",
   "execution_count": 142,
   "id": "c5f28f4b",
   "metadata": {
    "papermill": {
     "duration": 0.031751,
     "end_time": "2025-04-25T18:38:12.633202",
     "exception": false,
     "start_time": "2025-04-25T18:38:12.601451",
     "status": "completed"
    },
    "tags": []
   },
   "outputs": [
    {
     "name": "stdout",
     "output_type": "stream",
     "text": [
      "              pred_Survived  pred_Not Survived\n",
      "Survived                 70                 29\n",
      "Not Survived             18                151\n",
      "Accuracy: 82.463\n",
      "Precision : 79.545\n",
      "Recall: 70.707\n",
      "F1 Score : 74.866\n",
      "TPR: 70.707  FPR: 10.651\n"
     ]
    }
   ],
   "source": [
    "conf_matrix(ytest,lr_pred_prb)"
   ]
  },
  {
   "cell_type": "markdown",
   "id": "b8d4c689",
   "metadata": {
    "papermill": {
     "duration": 0.016311,
     "end_time": "2025-04-25T18:38:12.666717",
     "exception": false,
     "start_time": "2025-04-25T18:38:12.650406",
     "status": "completed"
    },
    "tags": []
   },
   "source": [
    "## ROC AUC Curve\n",
    "\n",
    "_Receiver Operating Characteristic_ & _Area Under Curve_"
   ]
  },
  {
   "cell_type": "code",
   "execution_count": 144,
   "id": "c1ac1469",
   "metadata": {
    "papermill": {
     "duration": 0.024045,
     "end_time": "2025-04-25T18:38:12.707179",
     "exception": false,
     "start_time": "2025-04-25T18:38:12.683134",
     "status": "completed"
    },
    "tags": []
   },
   "outputs": [],
   "source": [
    "tpr = recall_lr\n",
    "fpr = fp / (fp + tn)"
   ]
  },
  {
   "cell_type": "code",
   "execution_count": 145,
   "id": "bbb06aaa",
   "metadata": {
    "papermill": {
     "duration": 0.025421,
     "end_time": "2025-04-25T18:38:12.749501",
     "exception": false,
     "start_time": "2025-04-25T18:38:12.724080",
     "status": "completed"
    },
    "tags": []
   },
   "outputs": [
    {
     "data": {
      "text/plain": [
       "(0.7070707070707071, np.float64(0.10650887573964497))"
      ]
     },
     "execution_count": 145,
     "metadata": {},
     "output_type": "execute_result"
    }
   ],
   "source": [
    "tpr, fpr"
   ]
  },
  {
   "cell_type": "code",
   "execution_count": 146,
   "id": "cef9bfee",
   "metadata": {
    "papermill": {
     "duration": 0.02547,
     "end_time": "2025-04-25T18:38:12.791564",
     "exception": false,
     "start_time": "2025-04-25T18:38:12.766094",
     "status": "completed"
    },
    "tags": []
   },
   "outputs": [
    {
     "data": {
      "text/plain": [
       "(0.7070707070707071, np.float64(0.10650887573964496))"
      ]
     },
     "execution_count": 146,
     "metadata": {},
     "output_type": "execute_result"
    }
   ],
   "source": [
    "fpr = 1 - recall_0\n",
    "tpr, fpr"
   ]
  },
  {
   "cell_type": "markdown",
   "id": "2c0ce117",
   "metadata": {
    "papermill": {
     "duration": 0.017445,
     "end_time": "2025-04-25T18:38:12.825948",
     "exception": false,
     "start_time": "2025-04-25T18:38:12.808503",
     "status": "completed"
    },
    "tags": []
   },
   "source": [
    "Defining function to plot ROC AUC Curve"
   ]
  },
  {
   "cell_type": "code",
   "execution_count": 148,
   "id": "b2f5eaa8",
   "metadata": {
    "papermill": {
     "duration": 0.024934,
     "end_time": "2025-04-25T18:38:12.868473",
     "exception": false,
     "start_time": "2025-04-25T18:38:12.843539",
     "status": "completed"
    },
    "tags": []
   },
   "outputs": [],
   "source": [
    "from sklearn.metrics import auc,roc_curve,roc_auc_score"
   ]
  },
  {
   "cell_type": "code",
   "execution_count": 149,
   "id": "f5699a17",
   "metadata": {
    "papermill": {
     "duration": 0.025964,
     "end_time": "2025-04-25T18:38:12.911204",
     "exception": false,
     "start_time": "2025-04-25T18:38:12.885240",
     "status": "completed"
    },
    "tags": []
   },
   "outputs": [],
   "source": [
    "def plot_roc_curve(fpr, tpr, label=None):\n",
    "    plt.figure(figsize=(8,6))\n",
    "    plt.plot([0, 1], [0, 1], 'k--', label='Random Guess')\n",
    "    plt.title('ROC Curve')\n",
    "    plt.plot(fpr, tpr, linewidth=2, label=label)\n",
    "    plt.plot([0, 1], [0, 1], 'k--')\n",
    "    plt.axis([-0.005, 1, 0, 1.005])\n",
    "    plt.xticks(np.arange(0,1, 0.05), rotation=90)\n",
    "    plt.xlabel(\"False Positive Rate\")\n",
    "    plt.ylabel(\"True Positive Rate\")\n",
    "    plt.legend(loc='best')"
   ]
  },
  {
   "cell_type": "markdown",
   "id": "ff667eaf",
   "metadata": {
    "papermill": {
     "duration": 0.017403,
     "end_time": "2025-04-25T18:38:12.945485",
     "exception": false,
     "start_time": "2025-04-25T18:38:12.928082",
     "status": "completed"
    },
    "tags": []
   },
   "source": [
    "Getting TPR, FPR values for each threshold on ROC AUC Curve"
   ]
  },
  {
   "cell_type": "code",
   "execution_count": 151,
   "id": "261b5210",
   "metadata": {
    "papermill": {
     "duration": 0.029589,
     "end_time": "2025-04-25T18:38:12.991655",
     "exception": false,
     "start_time": "2025-04-25T18:38:12.962066",
     "status": "completed"
    },
    "tags": []
   },
   "outputs": [],
   "source": [
    "fpr,tpr,threshold=roc_curve(ytest,lr_pred_prb)"
   ]
  },
  {
   "cell_type": "markdown",
   "id": "a9dedeaa",
   "metadata": {
    "papermill": {
     "duration": 0.016716,
     "end_time": "2025-04-25T18:38:13.026207",
     "exception": false,
     "start_time": "2025-04-25T18:38:13.009491",
     "status": "completed"
    },
    "tags": []
   },
   "source": [
    "Calculating AUC score from ytest and predicted probabilities"
   ]
  },
  {
   "cell_type": "code",
   "execution_count": 153,
   "id": "66989fe0",
   "metadata": {
    "papermill": {
     "duration": 0.031981,
     "end_time": "2025-04-25T18:38:13.075115",
     "exception": false,
     "start_time": "2025-04-25T18:38:13.043134",
     "status": "completed"
    },
    "tags": []
   },
   "outputs": [
    {
     "data": {
      "text/plain": [
       "np.float64(0.8315103699719084)"
      ]
     },
     "execution_count": 153,
     "metadata": {},
     "output_type": "execute_result"
    }
   ],
   "source": [
    "auc_lr=roc_auc_score(ytest,lr_pred_prb)\n",
    "auc_lr"
   ]
  },
  {
   "cell_type": "markdown",
   "id": "8fe08a3c",
   "metadata": {
    "papermill": {
     "duration": 0.016735,
     "end_time": "2025-04-25T18:38:13.109825",
     "exception": false,
     "start_time": "2025-04-25T18:38:13.093090",
     "status": "completed"
    },
    "tags": []
   },
   "source": [
    "Plotting AUC ROC Curve"
   ]
  },
  {
   "cell_type": "code",
   "execution_count": 155,
   "id": "7bc26d92",
   "metadata": {
    "papermill": {
     "duration": 0.603658,
     "end_time": "2025-04-25T18:38:13.730224",
     "exception": false,
     "start_time": "2025-04-25T18:38:13.126566",
     "status": "completed"
    },
    "tags": []
   },
   "outputs": [
    {
     "data": {
      "image/png": "[encoded data removed]",
      "text/plain": [
       "<Figure size 800x600 with 1 Axes>"
      ]
     },
     "metadata": {},
     "output_type": "display_data"
    }
   ],
   "source": [
    "sns.set_context('poster')\n",
    "plot_roc_curve(fpr,tpr,label='AUC = %0.3f'% auc_lr)"
   ]
  },
  {
   "cell_type": "markdown",
   "id": "03af826d",
   "metadata": {
    "papermill": {
     "duration": 0.020075,
     "end_time": "2025-04-25T18:38:13.770881",
     "exception": false,
     "start_time": "2025-04-25T18:38:13.750806",
     "status": "completed"
    },
    "tags": []
   },
   "source": [
    "## Model Complexity"
   ]
  },
  {
   "cell_type": "code",
   "execution_count": 157,
   "id": "5267f35e",
   "metadata": {
    "papermill": {
     "duration": 57.534383,
     "end_time": "2025-04-25T18:39:11.323805",
     "exception": false,
     "start_time": "2025-04-25T18:38:13.789422",
     "status": "completed"
    },
    "tags": []
   },
   "outputs": [
    {
     "name": "stderr",
     "output_type": "stream",
     "text": [
      "C:\\Users\\root\\AppData\\Roaming\\Python\\Python312\\site-packages\\sklearn\\utils\\validation.py:1408: DataConversionWarning: A column-vector y was passed when a 1d array was expected. Please change the shape of y to (n_samples, ), for example using ravel().\n",
      "  y = column_or_1d(y, warn=True)\n",
      "C:\\Users\\root\\AppData\\Roaming\\Python\\Python312\\site-packages\\sklearn\\utils\\validation.py:1408: DataConversionWarning: A column-vector y was passed when a 1d array was expected. Please change the shape of y to (n_samples, ), for example using ravel().\n",
      "  y = column_or_1d(y, warn=True)\n",
      "C:\\Users\\root\\AppData\\Roaming\\Python\\Python312\\site-packages\\sklearn\\utils\\validation.py:1408: DataConversionWarning: A column-vector y was passed when a 1d array was expected. Please change the shape of y to (n_samples, ), for example using ravel().\n",
      "  y = column_or_1d(y, warn=True)\n",
      "C:\\Users\\root\\AppData\\Roaming\\Python\\Python312\\site-packages\\sklearn\\linear_model\\_logistic.py:465: ConvergenceWarning: lbfgs failed to converge (status=1):\n",
      "STOP: TOTAL NO. OF ITERATIONS REACHED LIMIT.\n",
      "\n",
      "Increase the number of iterations (max_iter) or scale the data as shown in:\n",
      "    https://scikit-learn.org/stable/modules/preprocessing.html\n",
      "Please also refer to the documentation for alternative solver options:\n",
      "    https://scikit-learn.org/stable/modules/linear_model.html#logistic-regression\n",
      "  n_iter_i = _check_optimize_result(\n",
      "C:\\Users\\root\\AppData\\Roaming\\Python\\Python312\\site-packages\\sklearn\\utils\\validation.py:1408: DataConversionWarning: A column-vector y was passed when a 1d array was expected. Please change the shape of y to (n_samples, ), for example using ravel().\n",
      "  y = column_or_1d(y, warn=True)\n",
      "C:\\Users\\root\\AppData\\Roaming\\Python\\Python312\\site-packages\\sklearn\\linear_model\\_logistic.py:465: ConvergenceWarning: lbfgs failed to converge (status=1):\n",
      "STOP: TOTAL NO. OF ITERATIONS REACHED LIMIT.\n",
      "\n",
      "Increase the number of iterations (max_iter) or scale the data as shown in:\n",
      "    https://scikit-learn.org/stable/modules/preprocessing.html\n",
      "Please also refer to the documentation for alternative solver options:\n",
      "    https://scikit-learn.org/stable/modules/linear_model.html#logistic-regression\n",
      "  n_iter_i = _check_optimize_result(\n",
      "C:\\Users\\root\\AppData\\Roaming\\Python\\Python312\\site-packages\\sklearn\\utils\\validation.py:1408: DataConversionWarning: A column-vector y was passed when a 1d array was expected. Please change the shape of y to (n_samples, ), for example using ravel().\n",
      "  y = column_or_1d(y, warn=True)\n",
      "C:\\Users\\root\\AppData\\Roaming\\Python\\Python312\\site-packages\\sklearn\\linear_model\\_logistic.py:465: ConvergenceWarning: lbfgs failed to converge (status=1):\n",
      "STOP: TOTAL NO. OF ITERATIONS REACHED LIMIT.\n",
      "\n",
      "Increase the number of iterations (max_iter) or scale the data as shown in:\n",
      "    https://scikit-learn.org/stable/modules/preprocessing.html\n",
      "Please also refer to the documentation for alternative solver options:\n",
      "    https://scikit-learn.org/stable/modules/linear_model.html#logistic-regression\n",
      "  n_iter_i = _check_optimize_result(\n"
     ]
    }
   ],
   "source": [
    "from sklearn.preprocessing import PolynomialFeatures\n",
    "acc_train=[]\n",
    "acc_test=[]\n",
    "\n",
    "for i in range(1,6):\n",
    "    poly_reg = PolynomialFeatures(degree=i)\n",
    "    \n",
    "    X_tr_poly,X_tst_poly= poly_reg.fit_transform(xtrain),poly_reg.fit_transform(xtest)\n",
    "    \n",
    "    lr_poly = LogisticRegression(random_state=25)\n",
    "    lr_poly.fit(X_tr_poly, ytrain)\n",
    "   \n",
    "    y_tr_predicted,y_tst_predict = lr_poly.predict(X_tr_poly),lr_poly.predict(X_tst_poly)\n",
    "   \n",
    "    acc_train.append(accuracy_score(ytrain, y_tr_predicted))\n",
    "    acc_test.append(accuracy_score(ytest, y_tst_predict))\n",
    "    "
   ]
  },
  {
   "cell_type": "code",
   "execution_count": 158,
   "id": "8232a499",
   "metadata": {
    "papermill": {
     "duration": 0.403942,
     "end_time": "2025-04-25T18:39:11.746773",
     "exception": false,
     "start_time": "2025-04-25T18:39:11.342831",
     "status": "completed"
    },
    "tags": []
   },
   "outputs": [
    {
     "data": {
      "text/plain": [
       "<Axes: >"
      ]
     },
     "execution_count": 158,
     "metadata": {},
     "output_type": "execute_result"
    },
    {
     "data": {
      "image/png": "[encoded data removed]",
      "text/plain": [
       "<Figure size 1800x500 with 1 Axes>"
      ]
     },
     "metadata": {},
     "output_type": "display_data"
    }
   ],
   "source": [
    "plt.figure(figsize=(18,5))\n",
    "sns.set_context('poster')\n",
    "\n",
    "sns.lineplot(x=list(range(1,6)), y=acc_train, label='Training')\n",
    "\n",
    "sns.lineplot(x=list(range(1,6)), y=acc_test, label='Testing')"
   ]
  },
  {
   "cell_type": "markdown",
   "id": "4432d2d4",
   "metadata": {
    "papermill": {
     "duration": 0.019783,
     "end_time": "2025-04-25T18:39:11.786638",
     "exception": false,
     "start_time": "2025-04-25T18:39:11.766855",
     "status": "completed"
    },
    "tags": []
   },
   "source": [
    "# Task 4: Submission on Kaggle"
   ]
  },
  {
   "cell_type": "markdown",
   "id": "c3984046",
   "metadata": {
    "papermill": {
     "duration": 0.019871,
     "end_time": "2025-04-25T18:39:11.828036",
     "exception": false,
     "start_time": "2025-04-25T18:39:11.808165",
     "status": "completed"
    },
    "tags": []
   },
   "source": [
    "### Task 4: Import test data"
   ]
  },
  {
   "cell_type": "code",
   "execution_count": 173,
   "id": "aa784cb2",
   "metadata": {
    "papermill": {
     "duration": 0.040865,
     "end_time": "2025-04-25T18:39:11.889198",
     "exception": false,
     "start_time": "2025-04-25T18:39:11.848333",
     "status": "completed"
    },
    "tags": []
   },
   "outputs": [
    {
     "data": {
      "text/html": [
       "<div>\n",
       "<style scoped>\n",
       "    .dataframe tbody tr th:only-of-type {\n",
       "        vertical-align: middle;\n",
       "    }\n",
       "\n",
       "    .dataframe tbody tr th {\n",
       "        vertical-align: top;\n",
       "    }\n",
       "\n",
       "    .dataframe thead th {\n",
       "        text-align: right;\n",
       "    }\n",
       "</style>\n",
       "<table border=\"1\" class=\"dataframe\">\n",
       "  <thead>\n",
       "    <tr style=\"text-align: right;\">\n",
       "      <th></th>\n",
       "      <th>PassengerId</th>\n",
       "      <th>Pclass</th>\n",
       "      <th>Sex</th>\n",
       "      <th>SibSp</th>\n",
       "      <th>Parch</th>\n",
       "      <th>Embarked</th>\n",
       "      <th>Title</th>\n",
       "      <th>GrpSize</th>\n",
       "      <th>FareCat</th>\n",
       "      <th>AgeCat</th>\n",
       "    </tr>\n",
       "  </thead>\n",
       "  <tbody>\n",
       "    <tr>\n",
       "      <th>0</th>\n",
       "      <td>892</td>\n",
       "      <td>3</td>\n",
       "      <td>male</td>\n",
       "      <td>0</td>\n",
       "      <td>0</td>\n",
       "      <td>Q</td>\n",
       "      <td>Mr</td>\n",
       "      <td>solo</td>\n",
       "      <td>0-10</td>\n",
       "      <td>32-48</td>\n",
       "    </tr>\n",
       "    <tr>\n",
       "      <th>1</th>\n",
       "      <td>893</td>\n",
       "      <td>3</td>\n",
       "      <td>female</td>\n",
       "      <td>1</td>\n",
       "      <td>0</td>\n",
       "      <td>S</td>\n",
       "      <td>Mrs</td>\n",
       "      <td>couple</td>\n",
       "      <td>0-10</td>\n",
       "      <td>32-48</td>\n",
       "    </tr>\n",
       "    <tr>\n",
       "      <th>2</th>\n",
       "      <td>894</td>\n",
       "      <td>2</td>\n",
       "      <td>male</td>\n",
       "      <td>0</td>\n",
       "      <td>0</td>\n",
       "      <td>Q</td>\n",
       "      <td>Mr</td>\n",
       "      <td>solo</td>\n",
       "      <td>0-10</td>\n",
       "      <td>48-64</td>\n",
       "    </tr>\n",
       "    <tr>\n",
       "      <th>3</th>\n",
       "      <td>895</td>\n",
       "      <td>3</td>\n",
       "      <td>male</td>\n",
       "      <td>0</td>\n",
       "      <td>0</td>\n",
       "      <td>S</td>\n",
       "      <td>Mr</td>\n",
       "      <td>solo</td>\n",
       "      <td>0-10</td>\n",
       "      <td>16-32</td>\n",
       "    </tr>\n",
       "    <tr>\n",
       "      <th>4</th>\n",
       "      <td>896</td>\n",
       "      <td>3</td>\n",
       "      <td>female</td>\n",
       "      <td>1</td>\n",
       "      <td>1</td>\n",
       "      <td>S</td>\n",
       "      <td>Mrs</td>\n",
       "      <td>group</td>\n",
       "      <td>10-25</td>\n",
       "      <td>16-32</td>\n",
       "    </tr>\n",
       "  </tbody>\n",
       "</table>\n",
       "</div>"
      ],
      "text/plain": [
       "   PassengerId  Pclass     Sex  SibSp  Parch Embarked Title GrpSize FareCat  \\\n",
       "0          892       3    male      0      0        Q    Mr    solo    0-10   \n",
       "1          893       3  female      1      0        S   Mrs  couple    0-10   \n",
       "2          894       2    male      0      0        Q    Mr    solo    0-10   \n",
       "3          895       3    male      0      0        S    Mr    solo    0-10   \n",
       "4          896       3  female      1      1        S   Mrs   group   10-25   \n",
       "\n",
       "  AgeCat  \n",
       "0  32-48  \n",
       "1  32-48  \n",
       "2  48-64  \n",
       "3  16-32  \n",
       "4  16-32  "
      ]
     },
     "execution_count": 173,
     "metadata": {},
     "output_type": "execute_result"
    }
   ],
   "source": [
    "#write code here\n",
    "test = pd.read_csv('competition_clean.csv')\n",
    "df_test = test.copy()\n",
    "df_test.head()"
   ]
  },
  {
   "cell_type": "code",
   "execution_count": 175,
   "id": "f7bebf1f",
   "metadata": {
    "papermill": {
     "duration": 0.028811,
     "end_time": "2025-04-25T18:39:11.938505",
     "exception": false,
     "start_time": "2025-04-25T18:39:11.909694",
     "status": "completed"
    },
    "tags": []
   },
   "outputs": [
    {
     "data": {
      "text/plain": [
       "(418, 10)"
      ]
     },
     "execution_count": 175,
     "metadata": {},
     "output_type": "execute_result"
    }
   ],
   "source": [
    "df_test.shape"
   ]
  },
  {
   "cell_type": "markdown",
   "id": "39529ed1",
   "metadata": {
    "papermill": {
     "duration": 0.020039,
     "end_time": "2025-04-25T18:39:11.978955",
     "exception": false,
     "start_time": "2025-04-25T18:39:11.958916",
     "status": "completed"
    },
    "tags": []
   },
   "source": [
    "# Task 5: Do One Hot encoding of test data"
   ]
  },
  {
   "cell_type": "code",
   "execution_count": 178,
   "id": "58357caa",
   "metadata": {
    "papermill": {
     "duration": 0.045573,
     "end_time": "2025-04-25T18:39:12.045102",
     "exception": false,
     "start_time": "2025-04-25T18:39:11.999529",
     "status": "completed"
    },
    "tags": []
   },
   "outputs": [
    {
     "data": {
      "text/html": [
       "<div>\n",
       "<style scoped>\n",
       "    .dataframe tbody tr th:only-of-type {\n",
       "        vertical-align: middle;\n",
       "    }\n",
       "\n",
       "    .dataframe tbody tr th {\n",
       "        vertical-align: top;\n",
       "    }\n",
       "\n",
       "    .dataframe thead th {\n",
       "        text-align: right;\n",
       "    }\n",
       "</style>\n",
       "<table border=\"1\" class=\"dataframe\">\n",
       "  <thead>\n",
       "    <tr style=\"text-align: right;\">\n",
       "      <th></th>\n",
       "      <th>PassengerId</th>\n",
       "      <th>SibSp</th>\n",
       "      <th>Parch</th>\n",
       "      <th>Pclass_1</th>\n",
       "      <th>Pclass_2</th>\n",
       "      <th>Pclass_3</th>\n",
       "      <th>Sex_female</th>\n",
       "      <th>Sex_male</th>\n",
       "      <th>Embarked_C</th>\n",
       "      <th>Embarked_Q</th>\n",
       "      <th>...</th>\n",
       "      <th>FareCat_10-25</th>\n",
       "      <th>FareCat_100+</th>\n",
       "      <th>FareCat_25-40</th>\n",
       "      <th>FareCat_40-70</th>\n",
       "      <th>FareCat_70-100</th>\n",
       "      <th>AgeCat_0-16</th>\n",
       "      <th>AgeCat_16-32</th>\n",
       "      <th>AgeCat_32-48</th>\n",
       "      <th>AgeCat_48-64</th>\n",
       "      <th>AgeCat_64+</th>\n",
       "    </tr>\n",
       "  </thead>\n",
       "  <tbody>\n",
       "    <tr>\n",
       "      <th>0</th>\n",
       "      <td>892</td>\n",
       "      <td>0</td>\n",
       "      <td>0</td>\n",
       "      <td>0</td>\n",
       "      <td>0</td>\n",
       "      <td>1</td>\n",
       "      <td>0</td>\n",
       "      <td>1</td>\n",
       "      <td>0</td>\n",
       "      <td>1</td>\n",
       "      <td>...</td>\n",
       "      <td>0</td>\n",
       "      <td>0</td>\n",
       "      <td>0</td>\n",
       "      <td>0</td>\n",
       "      <td>0</td>\n",
       "      <td>0</td>\n",
       "      <td>0</td>\n",
       "      <td>1</td>\n",
       "      <td>0</td>\n",
       "      <td>0</td>\n",
       "    </tr>\n",
       "    <tr>\n",
       "      <th>1</th>\n",
       "      <td>893</td>\n",
       "      <td>1</td>\n",
       "      <td>0</td>\n",
       "      <td>0</td>\n",
       "      <td>0</td>\n",
       "      <td>1</td>\n",
       "      <td>1</td>\n",
       "      <td>0</td>\n",
       "      <td>0</td>\n",
       "      <td>0</td>\n",
       "      <td>...</td>\n",
       "      <td>0</td>\n",
       "      <td>0</td>\n",
       "      <td>0</td>\n",
       "      <td>0</td>\n",
       "      <td>0</td>\n",
       "      <td>0</td>\n",
       "      <td>0</td>\n",
       "      <td>1</td>\n",
       "      <td>0</td>\n",
       "      <td>0</td>\n",
       "    </tr>\n",
       "    <tr>\n",
       "      <th>2</th>\n",
       "      <td>894</td>\n",
       "      <td>0</td>\n",
       "      <td>0</td>\n",
       "      <td>0</td>\n",
       "      <td>1</td>\n",
       "      <td>0</td>\n",
       "      <td>0</td>\n",
       "      <td>1</td>\n",
       "      <td>0</td>\n",
       "      <td>1</td>\n",
       "      <td>...</td>\n",
       "      <td>0</td>\n",
       "      <td>0</td>\n",
       "      <td>0</td>\n",
       "      <td>0</td>\n",
       "      <td>0</td>\n",
       "      <td>0</td>\n",
       "      <td>0</td>\n",
       "      <td>0</td>\n",
       "      <td>1</td>\n",
       "      <td>0</td>\n",
       "    </tr>\n",
       "    <tr>\n",
       "      <th>3</th>\n",
       "      <td>895</td>\n",
       "      <td>0</td>\n",
       "      <td>0</td>\n",
       "      <td>0</td>\n",
       "      <td>0</td>\n",
       "      <td>1</td>\n",
       "      <td>0</td>\n",
       "      <td>1</td>\n",
       "      <td>0</td>\n",
       "      <td>0</td>\n",
       "      <td>...</td>\n",
       "      <td>0</td>\n",
       "      <td>0</td>\n",
       "      <td>0</td>\n",
       "      <td>0</td>\n",
       "      <td>0</td>\n",
       "      <td>0</td>\n",
       "      <td>1</td>\n",
       "      <td>0</td>\n",
       "      <td>0</td>\n",
       "      <td>0</td>\n",
       "    </tr>\n",
       "    <tr>\n",
       "      <th>4</th>\n",
       "      <td>896</td>\n",
       "      <td>1</td>\n",
       "      <td>1</td>\n",
       "      <td>0</td>\n",
       "      <td>0</td>\n",
       "      <td>1</td>\n",
       "      <td>1</td>\n",
       "      <td>0</td>\n",
       "      <td>0</td>\n",
       "      <td>0</td>\n",
       "      <td>...</td>\n",
       "      <td>1</td>\n",
       "      <td>0</td>\n",
       "      <td>0</td>\n",
       "      <td>0</td>\n",
       "      <td>0</td>\n",
       "      <td>0</td>\n",
       "      <td>1</td>\n",
       "      <td>0</td>\n",
       "      <td>0</td>\n",
       "      <td>0</td>\n",
       "    </tr>\n",
       "  </tbody>\n",
       "</table>\n",
       "<p>5 rows × 31 columns</p>\n",
       "</div>"
      ],
      "text/plain": [
       "   PassengerId  SibSp  Parch  Pclass_1  Pclass_2  Pclass_3  Sex_female  \\\n",
       "0          892      0      0         0         0         1           0   \n",
       "1          893      1      0         0         0         1           1   \n",
       "2          894      0      0         0         1         0           0   \n",
       "3          895      0      0         0         0         1           0   \n",
       "4          896      1      1         0         0         1           1   \n",
       "\n",
       "   Sex_male  Embarked_C  Embarked_Q  ...  FareCat_10-25  FareCat_100+  \\\n",
       "0         1           0           1  ...              0             0   \n",
       "1         0           0           0  ...              0             0   \n",
       "2         1           0           1  ...              0             0   \n",
       "3         1           0           0  ...              0             0   \n",
       "4         0           0           0  ...              1             0   \n",
       "\n",
       "   FareCat_25-40  FareCat_40-70  FareCat_70-100  AgeCat_0-16  AgeCat_16-32  \\\n",
       "0              0              0               0            0             0   \n",
       "1              0              0               0            0             0   \n",
       "2              0              0               0            0             0   \n",
       "3              0              0               0            0             1   \n",
       "4              0              0               0            0             1   \n",
       "\n",
       "   AgeCat_32-48  AgeCat_48-64  AgeCat_64+  \n",
       "0             1             0           0  \n",
       "1             1             0           0  \n",
       "2             0             1           0  \n",
       "3             0             0           0  \n",
       "4             0             0           0  \n",
       "\n",
       "[5 rows x 31 columns]"
      ]
     },
     "execution_count": 178,
     "metadata": {},
     "output_type": "execute_result"
    }
   ],
   "source": [
    "#write code here\n",
    "df_OneHot=pd.get_dummies(df_test,columns=['Pclass','Sex','Embarked','Title','GrpSize','FareCat','AgeCat'])\n",
    "df_OneHot = df_OneHot.astype(int)\n",
    "df_test = df_OneHot.copy()\n",
    "df_test.head()"
   ]
  },
  {
   "cell_type": "markdown",
   "id": "38542582",
   "metadata": {
    "papermill": {
     "duration": 0.020401,
     "end_time": "2025-04-25T18:39:12.086273",
     "exception": false,
     "start_time": "2025-04-25T18:39:12.065872",
     "status": "completed"
    },
    "tags": []
   },
   "source": [
    "# Task 6: Separate Passenger ID for submission"
   ]
  },
  {
   "cell_type": "code",
   "execution_count": 181,
   "id": "098554bb",
   "metadata": {
    "papermill": {
     "duration": 0.040844,
     "end_time": "2025-04-25T18:39:12.147855",
     "exception": false,
     "start_time": "2025-04-25T18:39:12.107011",
     "status": "completed"
    },
    "tags": []
   },
   "outputs": [
    {
     "data": {
      "text/html": [
       "<div>\n",
       "<style scoped>\n",
       "    .dataframe tbody tr th:only-of-type {\n",
       "        vertical-align: middle;\n",
       "    }\n",
       "\n",
       "    .dataframe tbody tr th {\n",
       "        vertical-align: top;\n",
       "    }\n",
       "\n",
       "    .dataframe thead th {\n",
       "        text-align: right;\n",
       "    }\n",
       "</style>\n",
       "<table border=\"1\" class=\"dataframe\">\n",
       "  <thead>\n",
       "    <tr style=\"text-align: right;\">\n",
       "      <th></th>\n",
       "      <th>SibSp</th>\n",
       "      <th>Parch</th>\n",
       "      <th>Pclass_1</th>\n",
       "      <th>Pclass_2</th>\n",
       "      <th>Pclass_3</th>\n",
       "      <th>Sex_female</th>\n",
       "      <th>Sex_male</th>\n",
       "      <th>Embarked_C</th>\n",
       "      <th>Embarked_Q</th>\n",
       "      <th>Embarked_S</th>\n",
       "      <th>...</th>\n",
       "      <th>FareCat_10-25</th>\n",
       "      <th>FareCat_100+</th>\n",
       "      <th>FareCat_25-40</th>\n",
       "      <th>FareCat_40-70</th>\n",
       "      <th>FareCat_70-100</th>\n",
       "      <th>AgeCat_0-16</th>\n",
       "      <th>AgeCat_16-32</th>\n",
       "      <th>AgeCat_32-48</th>\n",
       "      <th>AgeCat_48-64</th>\n",
       "      <th>AgeCat_64+</th>\n",
       "    </tr>\n",
       "  </thead>\n",
       "  <tbody>\n",
       "    <tr>\n",
       "      <th>0</th>\n",
       "      <td>0</td>\n",
       "      <td>0</td>\n",
       "      <td>0</td>\n",
       "      <td>0</td>\n",
       "      <td>1</td>\n",
       "      <td>0</td>\n",
       "      <td>1</td>\n",
       "      <td>0</td>\n",
       "      <td>1</td>\n",
       "      <td>0</td>\n",
       "      <td>...</td>\n",
       "      <td>0</td>\n",
       "      <td>0</td>\n",
       "      <td>0</td>\n",
       "      <td>0</td>\n",
       "      <td>0</td>\n",
       "      <td>0</td>\n",
       "      <td>0</td>\n",
       "      <td>1</td>\n",
       "      <td>0</td>\n",
       "      <td>0</td>\n",
       "    </tr>\n",
       "    <tr>\n",
       "      <th>1</th>\n",
       "      <td>1</td>\n",
       "      <td>0</td>\n",
       "      <td>0</td>\n",
       "      <td>0</td>\n",
       "      <td>1</td>\n",
       "      <td>1</td>\n",
       "      <td>0</td>\n",
       "      <td>0</td>\n",
       "      <td>0</td>\n",
       "      <td>1</td>\n",
       "      <td>...</td>\n",
       "      <td>0</td>\n",
       "      <td>0</td>\n",
       "      <td>0</td>\n",
       "      <td>0</td>\n",
       "      <td>0</td>\n",
       "      <td>0</td>\n",
       "      <td>0</td>\n",
       "      <td>1</td>\n",
       "      <td>0</td>\n",
       "      <td>0</td>\n",
       "    </tr>\n",
       "    <tr>\n",
       "      <th>2</th>\n",
       "      <td>0</td>\n",
       "      <td>0</td>\n",
       "      <td>0</td>\n",
       "      <td>1</td>\n",
       "      <td>0</td>\n",
       "      <td>0</td>\n",
       "      <td>1</td>\n",
       "      <td>0</td>\n",
       "      <td>1</td>\n",
       "      <td>0</td>\n",
       "      <td>...</td>\n",
       "      <td>0</td>\n",
       "      <td>0</td>\n",
       "      <td>0</td>\n",
       "      <td>0</td>\n",
       "      <td>0</td>\n",
       "      <td>0</td>\n",
       "      <td>0</td>\n",
       "      <td>0</td>\n",
       "      <td>1</td>\n",
       "      <td>0</td>\n",
       "    </tr>\n",
       "    <tr>\n",
       "      <th>3</th>\n",
       "      <td>0</td>\n",
       "      <td>0</td>\n",
       "      <td>0</td>\n",
       "      <td>0</td>\n",
       "      <td>1</td>\n",
       "      <td>0</td>\n",
       "      <td>1</td>\n",
       "      <td>0</td>\n",
       "      <td>0</td>\n",
       "      <td>1</td>\n",
       "      <td>...</td>\n",
       "      <td>0</td>\n",
       "      <td>0</td>\n",
       "      <td>0</td>\n",
       "      <td>0</td>\n",
       "      <td>0</td>\n",
       "      <td>0</td>\n",
       "      <td>1</td>\n",
       "      <td>0</td>\n",
       "      <td>0</td>\n",
       "      <td>0</td>\n",
       "    </tr>\n",
       "    <tr>\n",
       "      <th>4</th>\n",
       "      <td>1</td>\n",
       "      <td>1</td>\n",
       "      <td>0</td>\n",
       "      <td>0</td>\n",
       "      <td>1</td>\n",
       "      <td>1</td>\n",
       "      <td>0</td>\n",
       "      <td>0</td>\n",
       "      <td>0</td>\n",
       "      <td>1</td>\n",
       "      <td>...</td>\n",
       "      <td>1</td>\n",
       "      <td>0</td>\n",
       "      <td>0</td>\n",
       "      <td>0</td>\n",
       "      <td>0</td>\n",
       "      <td>0</td>\n",
       "      <td>1</td>\n",
       "      <td>0</td>\n",
       "      <td>0</td>\n",
       "      <td>0</td>\n",
       "    </tr>\n",
       "    <tr>\n",
       "      <th>...</th>\n",
       "      <td>...</td>\n",
       "      <td>...</td>\n",
       "      <td>...</td>\n",
       "      <td>...</td>\n",
       "      <td>...</td>\n",
       "      <td>...</td>\n",
       "      <td>...</td>\n",
       "      <td>...</td>\n",
       "      <td>...</td>\n",
       "      <td>...</td>\n",
       "      <td>...</td>\n",
       "      <td>...</td>\n",
       "      <td>...</td>\n",
       "      <td>...</td>\n",
       "      <td>...</td>\n",
       "      <td>...</td>\n",
       "      <td>...</td>\n",
       "      <td>...</td>\n",
       "      <td>...</td>\n",
       "      <td>...</td>\n",
       "      <td>...</td>\n",
       "    </tr>\n",
       "    <tr>\n",
       "      <th>413</th>\n",
       "      <td>0</td>\n",
       "      <td>0</td>\n",
       "      <td>0</td>\n",
       "      <td>0</td>\n",
       "      <td>1</td>\n",
       "      <td>0</td>\n",
       "      <td>1</td>\n",
       "      <td>0</td>\n",
       "      <td>0</td>\n",
       "      <td>1</td>\n",
       "      <td>...</td>\n",
       "      <td>0</td>\n",
       "      <td>0</td>\n",
       "      <td>0</td>\n",
       "      <td>0</td>\n",
       "      <td>0</td>\n",
       "      <td>0</td>\n",
       "      <td>1</td>\n",
       "      <td>0</td>\n",
       "      <td>0</td>\n",
       "      <td>0</td>\n",
       "    </tr>\n",
       "    <tr>\n",
       "      <th>414</th>\n",
       "      <td>0</td>\n",
       "      <td>0</td>\n",
       "      <td>1</td>\n",
       "      <td>0</td>\n",
       "      <td>0</td>\n",
       "      <td>1</td>\n",
       "      <td>0</td>\n",
       "      <td>1</td>\n",
       "      <td>0</td>\n",
       "      <td>0</td>\n",
       "      <td>...</td>\n",
       "      <td>0</td>\n",
       "      <td>1</td>\n",
       "      <td>0</td>\n",
       "      <td>0</td>\n",
       "      <td>0</td>\n",
       "      <td>0</td>\n",
       "      <td>0</td>\n",
       "      <td>1</td>\n",
       "      <td>0</td>\n",
       "      <td>0</td>\n",
       "    </tr>\n",
       "    <tr>\n",
       "      <th>415</th>\n",
       "      <td>0</td>\n",
       "      <td>0</td>\n",
       "      <td>0</td>\n",
       "      <td>0</td>\n",
       "      <td>1</td>\n",
       "      <td>0</td>\n",
       "      <td>1</td>\n",
       "      <td>0</td>\n",
       "      <td>0</td>\n",
       "      <td>1</td>\n",
       "      <td>...</td>\n",
       "      <td>0</td>\n",
       "      <td>0</td>\n",
       "      <td>0</td>\n",
       "      <td>0</td>\n",
       "      <td>0</td>\n",
       "      <td>0</td>\n",
       "      <td>0</td>\n",
       "      <td>1</td>\n",
       "      <td>0</td>\n",
       "      <td>0</td>\n",
       "    </tr>\n",
       "    <tr>\n",
       "      <th>416</th>\n",
       "      <td>0</td>\n",
       "      <td>0</td>\n",
       "      <td>0</td>\n",
       "      <td>0</td>\n",
       "      <td>1</td>\n",
       "      <td>0</td>\n",
       "      <td>1</td>\n",
       "      <td>0</td>\n",
       "      <td>0</td>\n",
       "      <td>1</td>\n",
       "      <td>...</td>\n",
       "      <td>0</td>\n",
       "      <td>0</td>\n",
       "      <td>0</td>\n",
       "      <td>0</td>\n",
       "      <td>0</td>\n",
       "      <td>0</td>\n",
       "      <td>1</td>\n",
       "      <td>0</td>\n",
       "      <td>0</td>\n",
       "      <td>0</td>\n",
       "    </tr>\n",
       "    <tr>\n",
       "      <th>417</th>\n",
       "      <td>1</td>\n",
       "      <td>1</td>\n",
       "      <td>0</td>\n",
       "      <td>0</td>\n",
       "      <td>1</td>\n",
       "      <td>0</td>\n",
       "      <td>1</td>\n",
       "      <td>1</td>\n",
       "      <td>0</td>\n",
       "      <td>0</td>\n",
       "      <td>...</td>\n",
       "      <td>1</td>\n",
       "      <td>0</td>\n",
       "      <td>0</td>\n",
       "      <td>0</td>\n",
       "      <td>0</td>\n",
       "      <td>1</td>\n",
       "      <td>0</td>\n",
       "      <td>0</td>\n",
       "      <td>0</td>\n",
       "      <td>0</td>\n",
       "    </tr>\n",
       "  </tbody>\n",
       "</table>\n",
       "<p>418 rows × 30 columns</p>\n",
       "</div>"
      ],
      "text/plain": [
       "     SibSp  Parch  Pclass_1  Pclass_2  Pclass_3  Sex_female  Sex_male  \\\n",
       "0        0      0         0         0         1           0         1   \n",
       "1        1      0         0         0         1           1         0   \n",
       "2        0      0         0         1         0           0         1   \n",
       "3        0      0         0         0         1           0         1   \n",
       "4        1      1         0         0         1           1         0   \n",
       "..     ...    ...       ...       ...       ...         ...       ...   \n",
       "413      0      0         0         0         1           0         1   \n",
       "414      0      0         1         0         0           1         0   \n",
       "415      0      0         0         0         1           0         1   \n",
       "416      0      0         0         0         1           0         1   \n",
       "417      1      1         0         0         1           0         1   \n",
       "\n",
       "     Embarked_C  Embarked_Q  Embarked_S  ...  FareCat_10-25  FareCat_100+  \\\n",
       "0             0           1           0  ...              0             0   \n",
       "1             0           0           1  ...              0             0   \n",
       "2             0           1           0  ...              0             0   \n",
       "3             0           0           1  ...              0             0   \n",
       "4             0           0           1  ...              1             0   \n",
       "..          ...         ...         ...  ...            ...           ...   \n",
       "413           0           0           1  ...              0             0   \n",
       "414           1           0           0  ...              0             1   \n",
       "415           0           0           1  ...              0             0   \n",
       "416           0           0           1  ...              0             0   \n",
       "417           1           0           0  ...              1             0   \n",
       "\n",
       "     FareCat_25-40  FareCat_40-70  FareCat_70-100  AgeCat_0-16  AgeCat_16-32  \\\n",
       "0                0              0               0            0             0   \n",
       "1                0              0               0            0             0   \n",
       "2                0              0               0            0             0   \n",
       "3                0              0               0            0             1   \n",
       "4                0              0               0            0             1   \n",
       "..             ...            ...             ...          ...           ...   \n",
       "413              0              0               0            0             1   \n",
       "414              0              0               0            0             0   \n",
       "415              0              0               0            0             0   \n",
       "416              0              0               0            0             1   \n",
       "417              0              0               0            1             0   \n",
       "\n",
       "     AgeCat_32-48  AgeCat_48-64  AgeCat_64+  \n",
       "0               1             0           0  \n",
       "1               1             0           0  \n",
       "2               0             1           0  \n",
       "3               0             0           0  \n",
       "4               0             0           0  \n",
       "..            ...           ...         ...  \n",
       "413             0             0           0  \n",
       "414             1             0           0  \n",
       "415             1             0           0  \n",
       "416             0             0           0  \n",
       "417             0             0           0  \n",
       "\n",
       "[418 rows x 30 columns]"
      ]
     },
     "execution_count": 181,
     "metadata": {},
     "output_type": "execute_result"
    }
   ],
   "source": [
    "#Write code here\n",
    "PassengerID = df_test['PassengerId']\n",
    "df_test.drop('PassengerId', axis=1, inplace=True)\n",
    "df_test"
   ]
  },
  {
   "cell_type": "markdown",
   "id": "dbad5488",
   "metadata": {
    "papermill": {
     "duration": 0.020772,
     "end_time": "2025-04-25T18:39:12.191344",
     "exception": false,
     "start_time": "2025-04-25T18:39:12.170572",
     "status": "completed"
    },
    "tags": []
   },
   "source": [
    "# Task 7: Do prediction through final model"
   ]
  },
  {
   "cell_type": "code",
   "execution_count": 184,
   "id": "b3f56071",
   "metadata": {
    "papermill": {
     "duration": 0.029171,
     "end_time": "2025-04-25T18:39:12.241452",
     "exception": false,
     "start_time": "2025-04-25T18:39:12.212281",
     "status": "completed"
    },
    "tags": []
   },
   "outputs": [],
   "source": [
    "#write code here\n",
    "pred_final= lr_model.predict(df_test)"
   ]
  },
  {
   "cell_type": "markdown",
   "id": "63ebc5f3",
   "metadata": {
    "papermill": {
     "duration": 0.020347,
     "end_time": "2025-04-25T18:39:12.282419",
     "exception": false,
     "start_time": "2025-04-25T18:39:12.262072",
     "status": "completed"
    },
    "tags": []
   },
   "source": [
    "## Creating Data Frame for submission"
   ]
  },
  {
   "cell_type": "code",
   "execution_count": 187,
   "id": "03518529",
   "metadata": {
    "papermill": {
     "duration": 0.028504,
     "end_time": "2025-04-25T18:39:12.331701",
     "exception": false,
     "start_time": "2025-04-25T18:39:12.303197",
     "status": "completed"
    },
    "tags": []
   },
   "outputs": [],
   "source": [
    "submission=pd.DataFrame({'PassengerId':PassengerID,'Survived':pred_final})"
   ]
  },
  {
   "cell_type": "code",
   "execution_count": null,
   "id": "1cf4d4b4",
   "metadata": {
    "papermill": {
     "duration": 0.0325,
     "end_time": "2025-04-25T18:39:12.386942",
     "exception": false,
     "start_time": "2025-04-25T18:39:12.354442",
     "status": "completed"
    },
    "tags": []
   },
   "outputs": [],
   "source": [
    "submission.head()"
   ]
  },
  {
   "cell_type": "code",
   "execution_count": null,
   "id": "47ad2926",
   "metadata": {
    "papermill": {
     "duration": 0.030312,
     "end_time": "2025-04-25T18:39:12.438749",
     "exception": false,
     "start_time": "2025-04-25T18:39:12.408437",
     "status": "completed"
    },
    "tags": []
   },
   "outputs": [],
   "source": [
    "submission.shape"
   ]
  },
  {
   "cell_type": "markdown",
   "id": "b03eb40c",
   "metadata": {
    "papermill": {
     "duration": 0.020969,
     "end_time": "2025-04-25T18:39:12.481373",
     "exception": false,
     "start_time": "2025-04-25T18:39:12.460404",
     "status": "completed"
    },
    "tags": []
   },
   "source": [
    "# Task 8: Export the dataset into csv file"
   ]
  },
  {
   "cell_type": "code",
   "execution_count": null,
   "id": "5c9e0c47",
   "metadata": {
    "papermill": {
     "duration": 0.03387,
     "end_time": "2025-04-25T18:39:12.537286",
     "exception": false,
     "start_time": "2025-04-25T18:39:12.503416",
     "status": "completed"
    },
    "tags": []
   },
   "outputs": [],
   "source": [
    "# Write code here\n",
    "submission.to_csv('my_submission v1.0.csv', index=False)"
   ]
  }
 ],
 "metadata": {
  "kaggle": {
   "accelerator": "none",
   "dataSources": [
    {
     "datasetId": 7248769,
     "sourceId": 11567522,
     "sourceType": "datasetVersion"
    }
   ],
   "dockerImageVersionId": 31012,
   "isGpuEnabled": false,
   "isInternetEnabled": true,
   "language": "python",
   "sourceType": "notebook"
  },
  "kernelspec": {
   "display_name": "Python 3 (ipykernel)",
   "language": "python",
   "name": "python3"
  },
  "language_info": {
   "codemirror_mode": {
    "name": "ipython",
    "version": 3
   },
   "file_extension": ".py",
   "mimetype": "text/x-python",
   "name": "python",
   "nbconvert_exporter": "python",
   "pygments_lexer": "ipython3",
   "version": "3.12.7"
  },
  "papermill": {
   "default_parameters": {},
   "duration": 73.726662,
   "end_time": "2025-04-25T18:39:13.279167",
   "environment_variables": {},
   "exception": null,
   "input_path": "__notebook__.ipynb",
   "output_path": "__notebook__.ipynb",
   "parameters": {},
   "start_time": "2025-04-25T18:37:59.552505",
   "version": "2.6.0"
  },
  "widgets": {
   "application/vnd.jupyter.widget-state+json": {
    "state": {},
    "version_major": 2,
    "version_minor": 0
   }
  }
 },
 "nbformat": 4,
 "nbformat_minor": 5
}
